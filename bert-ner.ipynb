{
 "cells": [
  {
   "cell_type": "code",
   "execution_count": 1,
   "metadata": {
    "_cell_guid": "b1076dfc-b9ad-4769-8c92-a6c4dae69d19",
    "_uuid": "8f2839f25d086af736a60e9eeb907d3b93b6e0e5",
    "execution": {
     "iopub.execute_input": "2022-04-11T06:52:38.950597Z",
     "iopub.status.busy": "2022-04-11T06:52:38.950001Z",
     "iopub.status.idle": "2022-04-11T06:52:38.973286Z",
     "shell.execute_reply": "2022-04-11T06:52:38.972642Z",
     "shell.execute_reply.started": "2022-04-11T06:52:38.950474Z"
    }
   },
   "outputs": [],
   "source": [
    "data_path = \"data\" \n",
    "seed = 46"
   ]
  },
  {
   "cell_type": "markdown",
   "metadata": {},
   "source": [
    "**Imports and random seeding**"
   ]
  },
  {
   "cell_type": "code",
   "execution_count": 2,
   "metadata": {},
   "outputs": [],
   "source": [
    "#!pip install transformers"
   ]
  },
  {
   "cell_type": "code",
   "execution_count": 3,
   "metadata": {},
   "outputs": [],
   "source": [
    "#from transformers import BertTokenizer\n",
    "#BertTokenizer?"
   ]
  },
  {
   "cell_type": "code",
   "execution_count": 4,
   "metadata": {
    "execution": {
     "iopub.execute_input": "2022-04-11T06:52:38.974823Z",
     "iopub.status.busy": "2022-04-11T06:52:38.974472Z",
     "iopub.status.idle": "2022-04-11T06:52:41.618903Z",
     "shell.execute_reply": "2022-04-11T06:52:41.618159Z",
     "shell.execute_reply.started": "2022-04-11T06:52:38.974785Z"
    }
   },
   "outputs": [],
   "source": [
    "import numpy as np\n",
    "np.random.seed(seed)\n",
    "np.random.RandomState(seed)\n",
    "\n",
    "import random\n",
    "random.seed(seed)\n",
    "\n",
    "import torch\n",
    "torch.manual_seed(seed)\n",
    "torch.use_deterministic_algorithms(False)\n",
    "from torch.utils.data import Dataset, DataLoader\n",
    "\n",
    "from transformers import BertTokenizer, BertConfig, BertForTokenClassification, AutoTokenizer, AutoConfig\n",
    "\n",
    "import pandas as pd\n",
    "\n",
    "from sklearn.model_selection import StratifiedShuffleSplit, train_test_split\n",
    "from sklearn.metrics import classification_report, accuracy_score, f1_score, recall_score, confusion_matrix, balanced_accuracy_score\n",
    "\n",
    "import itertools\n",
    "from collections import Counter\n",
    "import matplotlib.pyplot as plt\n",
    "\n",
    "import seaborn as sns\n",
    "\n",
    "import time"
   ]
  },
  {
   "cell_type": "markdown",
   "metadata": {},
   "source": [
    "**Tokenization and label expansion**"
   ]
  },
  {
   "cell_type": "code",
   "execution_count": 5,
   "metadata": {
    "execution": {
     "iopub.execute_input": "2022-04-11T06:52:41.620511Z",
     "iopub.status.busy": "2022-04-11T06:52:41.620291Z",
     "iopub.status.idle": "2022-04-11T06:52:42.244648Z",
     "shell.execute_reply": "2022-04-11T06:52:42.243885Z",
     "shell.execute_reply.started": "2022-04-11T06:52:41.620486Z"
    }
   },
   "outputs": [
    {
     "data": {
      "text/html": [
       "<div>\n",
       "<style scoped>\n",
       "    .dataframe tbody tr th:only-of-type {\n",
       "        vertical-align: middle;\n",
       "    }\n",
       "\n",
       "    .dataframe tbody tr th {\n",
       "        vertical-align: top;\n",
       "    }\n",
       "\n",
       "    .dataframe thead th {\n",
       "        text-align: right;\n",
       "    }\n",
       "</style>\n",
       "<table border=\"1\" class=\"dataframe\">\n",
       "  <thead>\n",
       "    <tr style=\"text-align: right;\">\n",
       "      <th></th>\n",
       "      <th>index</th>\n",
       "      <th>ner_tags</th>\n",
       "      <th>ner_ids</th>\n",
       "      <th>tokens</th>\n",
       "      <th>space_after</th>\n",
       "    </tr>\n",
       "  </thead>\n",
       "  <tbody>\n",
       "    <tr>\n",
       "      <th>0</th>\n",
       "      <td>0</td>\n",
       "      <td>[O, GPE, O, O, O, O, O, O, LOC, O, O, O, O, O,...</td>\n",
       "      <td>[0, 3, 0, 0, 0, 0, 0, 0, 4, 0, 0, 0, 0, 0, 0, ...</td>\n",
       "      <td>[În, România, ,, ca, de, altfel, în, întreaga,...</td>\n",
       "      <td>[True, False, True, True, True, True, True, Tr...</td>\n",
       "    </tr>\n",
       "    <tr>\n",
       "      <th>1</th>\n",
       "      <td>1</td>\n",
       "      <td>[O, O, O, DATETIME, DATETIME, O, O, O, O, O, O...</td>\n",
       "      <td>[0, 0, 0, 9, 9, 0, 0, 0, 0, 0, 0, 0, 13, 13, 1...</td>\n",
       "      <td>[Se, estimează, că, în, prezent, acestea, sunt...</td>\n",
       "      <td>[True, True, True, True, True, True, True, Tru...</td>\n",
       "    </tr>\n",
       "    <tr>\n",
       "      <th>2</th>\n",
       "      <td>2</td>\n",
       "      <td>[O, O, O, O, O, NUMERIC, O, O, O, PERSON, O, P...</td>\n",
       "      <td>[0, 0, 0, 0, 0, 13, 0, 0, 0, 1, 0, 1, 0, 0, 1,...</td>\n",
       "      <td>[Cartea, cuprinde, o, suită, de, 115, texte-re...</td>\n",
       "      <td>[True, True, True, True, True, True, True, Tru...</td>\n",
       "    </tr>\n",
       "    <tr>\n",
       "      <th>3</th>\n",
       "      <td>3</td>\n",
       "      <td>[O, O, O, O, O, O, O, O, O, O, O, DATETIME, DA...</td>\n",
       "      <td>[0, 0, 0, 0, 0, 0, 0, 0, 0, 0, 0, 9, 9, 9, 0]</td>\n",
       "      <td>[Bursele, pentru, proiecte, ArtsLink, -, terme...</td>\n",
       "      <td>[True, True, True, True, True, True, True, Tru...</td>\n",
       "    </tr>\n",
       "    <tr>\n",
       "      <th>4</th>\n",
       "      <td>4</td>\n",
       "      <td>[O, O, O, O, O, O, O, O, O, O, O, O, O, O, O, ...</td>\n",
       "      <td>[0, 0, 0, 0, 0, 0, 0, 0, 0, 0, 0, 0, 0, 0, 0, ...</td>\n",
       "      <td>[Aplicația, informațională, este, însoțită, de...</td>\n",
       "      <td>[True, True, True, True, True, True, True, Tru...</td>\n",
       "    </tr>\n",
       "  </tbody>\n",
       "</table>\n",
       "</div>"
      ],
      "text/plain": [
       "   index                                           ner_tags  \\\n",
       "0      0  [O, GPE, O, O, O, O, O, O, LOC, O, O, O, O, O,...   \n",
       "1      1  [O, O, O, DATETIME, DATETIME, O, O, O, O, O, O...   \n",
       "2      2  [O, O, O, O, O, NUMERIC, O, O, O, PERSON, O, P...   \n",
       "3      3  [O, O, O, O, O, O, O, O, O, O, O, DATETIME, DA...   \n",
       "4      4  [O, O, O, O, O, O, O, O, O, O, O, O, O, O, O, ...   \n",
       "\n",
       "                                             ner_ids  \\\n",
       "0  [0, 3, 0, 0, 0, 0, 0, 0, 4, 0, 0, 0, 0, 0, 0, ...   \n",
       "1  [0, 0, 0, 9, 9, 0, 0, 0, 0, 0, 0, 0, 13, 13, 1...   \n",
       "2  [0, 0, 0, 0, 0, 13, 0, 0, 0, 1, 0, 1, 0, 0, 1,...   \n",
       "3      [0, 0, 0, 0, 0, 0, 0, 0, 0, 0, 0, 9, 9, 9, 0]   \n",
       "4  [0, 0, 0, 0, 0, 0, 0, 0, 0, 0, 0, 0, 0, 0, 0, ...   \n",
       "\n",
       "                                              tokens  \\\n",
       "0  [În, România, ,, ca, de, altfel, în, întreaga,...   \n",
       "1  [Se, estimează, că, în, prezent, acestea, sunt...   \n",
       "2  [Cartea, cuprinde, o, suită, de, 115, texte-re...   \n",
       "3  [Bursele, pentru, proiecte, ArtsLink, -, terme...   \n",
       "4  [Aplicația, informațională, este, însoțită, de...   \n",
       "\n",
       "                                         space_after  \n",
       "0  [True, False, True, True, True, True, True, Tr...  \n",
       "1  [True, True, True, True, True, True, True, Tru...  \n",
       "2  [True, True, True, True, True, True, True, Tru...  \n",
       "3  [True, True, True, True, True, True, True, Tru...  \n",
       "4  [True, True, True, True, True, True, True, Tru...  "
      ]
     },
     "execution_count": 5,
     "metadata": {},
     "output_type": "execute_result"
    }
   ],
   "source": [
    "df_train = pd.read_json(f\"{data_path}/train.json\")\n",
    "\n",
    "# those entries contain invalid tokens, like Romani is tokenized as 'r', 'omani'\n",
    "invalid_tokenization = [27, 1109, 1893, 2545, 3853, 3906, 6043, 6281, 7107, 7458, 8016, 8633, 8683, 8747, 8986, 10062, 10271, 11123, 12042, 12047, 12066]\n",
    "df_train = df_train.drop(df_train.index[invalid_tokenization]).reset_index()\n",
    "\n",
    "df_train.head()"
   ]
  },
  {
   "cell_type": "code",
   "execution_count": 6,
   "metadata": {
    "execution": {
     "iopub.execute_input": "2022-04-11T06:52:42.246294Z",
     "iopub.status.busy": "2022-04-11T06:52:42.24602Z",
     "iopub.status.idle": "2022-04-11T06:52:42.305637Z",
     "shell.execute_reply": "2022-04-11T06:52:42.304766Z",
     "shell.execute_reply.started": "2022-04-11T06:52:42.246255Z"
    }
   },
   "outputs": [
    {
     "data": {
      "text/html": [
       "<div>\n",
       "<style scoped>\n",
       "    .dataframe tbody tr th:only-of-type {\n",
       "        vertical-align: middle;\n",
       "    }\n",
       "\n",
       "    .dataframe tbody tr th {\n",
       "        vertical-align: top;\n",
       "    }\n",
       "\n",
       "    .dataframe thead th {\n",
       "        text-align: right;\n",
       "    }\n",
       "</style>\n",
       "<table border=\"1\" class=\"dataframe\">\n",
       "  <thead>\n",
       "    <tr style=\"text-align: right;\">\n",
       "      <th></th>\n",
       "      <th>tokens</th>\n",
       "      <th>space_after</th>\n",
       "    </tr>\n",
       "  </thead>\n",
       "  <tbody>\n",
       "    <tr>\n",
       "      <th>0</th>\n",
       "      <td>[Cazul, tinerei, agresate, de, agenții, de, pa...</td>\n",
       "      <td>[True, True, True, True, True, True, True, Fal...</td>\n",
       "    </tr>\n",
       "    <tr>\n",
       "      <th>1</th>\n",
       "      <td>[\\n, Scandal, la, Carrefour, Braşov, :, Unde, ...</td>\n",
       "      <td>[False, True, True, True, False, True, True, T...</td>\n",
       "    </tr>\n",
       "    <tr>\n",
       "      <th>2</th>\n",
       "      <td>[De, ce, câștigă, Facebook, și, când, utilizat...</td>\n",
       "      <td>[True, True, True, True, True, True, True, Tru...</td>\n",
       "    </tr>\n",
       "    <tr>\n",
       "      <th>3</th>\n",
       "      <td>[EXCLUSIV, !, Tupeu, fără, margini, !, Profi, ...</td>\n",
       "      <td>[False, True, True, True, False, True, True, T...</td>\n",
       "    </tr>\n",
       "    <tr>\n",
       "      <th>4</th>\n",
       "      <td>[PROFI, ,, în, mijlocul, unui, scandal, !, Rep...</td>\n",
       "      <td>[False, True, True, True, True, False, True, T...</td>\n",
       "    </tr>\n",
       "  </tbody>\n",
       "</table>\n",
       "</div>"
      ],
      "text/plain": [
       "                                              tokens  \\\n",
       "0  [Cazul, tinerei, agresate, de, agenții, de, pa...   \n",
       "1  [\\n, Scandal, la, Carrefour, Braşov, :, Unde, ...   \n",
       "2  [De, ce, câștigă, Facebook, și, când, utilizat...   \n",
       "3  [EXCLUSIV, !, Tupeu, fără, margini, !, Profi, ...   \n",
       "4  [PROFI, ,, în, mijlocul, unui, scandal, !, Rep...   \n",
       "\n",
       "                                         space_after  \n",
       "0  [True, True, True, True, True, True, True, Fal...  \n",
       "1  [False, True, True, True, False, True, True, T...  \n",
       "2  [True, True, True, True, True, True, True, Tru...  \n",
       "3  [False, True, True, True, False, True, True, T...  \n",
       "4  [False, True, True, True, True, False, True, T...  "
      ]
     },
     "execution_count": 6,
     "metadata": {},
     "output_type": "execute_result"
    }
   ],
   "source": [
    "df_evaluation = pd.read_json(f\"{data_path}/test.json\")\n",
    "df_evaluation.head()"
   ]
  },
  {
   "cell_type": "code",
   "execution_count": 7,
   "metadata": {
    "execution": {
     "iopub.execute_input": "2022-04-11T06:52:42.307736Z",
     "iopub.status.busy": "2022-04-11T06:52:42.307434Z",
     "iopub.status.idle": "2022-04-11T06:52:42.314729Z",
     "shell.execute_reply": "2022-04-11T06:52:42.314161Z",
     "shell.execute_reply.started": "2022-04-11T06:52:42.307692Z"
    }
   },
   "outputs": [
    {
     "data": {
      "text/plain": [
       "99"
      ]
     },
     "execution_count": 7,
     "metadata": {},
     "output_type": "execute_result"
    }
   ],
   "source": [
    "df_evaluation[\"tokens\"].map(len).max() # max 99 tokens, so ~ 100 input size for BERT should be ok"
   ]
  },
  {
   "cell_type": "code",
   "execution_count": 8,
   "metadata": {
    "execution": {
     "iopub.execute_input": "2022-04-11T06:52:42.316317Z",
     "iopub.status.busy": "2022-04-11T06:52:42.315523Z",
     "iopub.status.idle": "2022-04-11T06:52:42.529739Z",
     "shell.execute_reply": "2022-04-11T06:52:42.528954Z",
     "shell.execute_reply.started": "2022-04-11T06:52:42.316277Z"
    }
   },
   "outputs": [
    {
     "data": {
      "text/plain": [
       "(False, True)"
      ]
     },
     "execution_count": 8,
     "metadata": {},
     "output_type": "execute_result"
    }
   ],
   "source": [
    "def has_invalid_chars(sentences):\n",
    "    bad_chars = set([\"ţ\", \"ş\", \"Ş\", \"Ţ\"])\n",
    "    for sentence in sentences:\n",
    "        for token in sentence:\n",
    "            for letter in token:\n",
    "                if letter in bad_chars:\n",
    "                    return True\n",
    "    return False\n",
    "\n",
    "has_invalid_chars(df_train[\"tokens\"]), has_invalid_chars(df_evaluation[\"tokens\"])"
   ]
  },
  {
   "cell_type": "code",
   "execution_count": 9,
   "metadata": {
    "execution": {
     "iopub.execute_input": "2022-04-11T06:52:42.531162Z",
     "iopub.status.busy": "2022-04-11T06:52:42.530863Z",
     "iopub.status.idle": "2022-04-11T06:53:02.731449Z",
     "shell.execute_reply": "2022-04-11T06:53:02.72842Z",
     "shell.execute_reply.started": "2022-04-11T06:52:42.53113Z"
    }
   },
   "outputs": [],
   "source": [
    "bert_tokenizer = AutoTokenizer.from_pretrained(\"dumitrescustefan/bert-base-romanian-cased-v1\")"
   ]
  },
  {
   "cell_type": "code",
   "execution_count": 10,
   "metadata": {
    "execution": {
     "iopub.status.busy": "2022-04-11T06:53:02.732324Z",
     "iopub.status.idle": "2022-04-11T06:53:02.732663Z",
     "shell.execute_reply": "2022-04-11T06:53:02.732502Z",
     "shell.execute_reply.started": "2022-04-11T06:53:02.732478Z"
    }
   },
   "outputs": [],
   "source": [
    "def sanitize_chars(text):\n",
    "    return text.replace(\"ţ\", \"ț\").replace(\"ş\", \"ș\").replace(\"Ţ\", \"Ț\").replace(\"Ş\", \"Ș\")\n",
    "\n",
    "def rejoin(tokens, space_after):\n",
    "    l = []\n",
    "    for t, s in zip(tokens, space_after):\n",
    "        l.append(t)\n",
    "        if s: l.append(' ')\n",
    "    return sanitize_chars(''.join(l))"
   ]
  },
  {
   "cell_type": "code",
   "execution_count": 11,
   "metadata": {
    "execution": {
     "iopub.status.busy": "2022-04-11T06:53:02.734268Z",
     "iopub.status.idle": "2022-04-11T06:53:02.73503Z",
     "shell.execute_reply": "2022-04-11T06:53:02.734784Z",
     "shell.execute_reply.started": "2022-04-11T06:53:02.734755Z"
    }
   },
   "outputs": [
    {
     "data": {
      "text/plain": [
       "16"
      ]
     },
     "execution_count": 11,
     "metadata": {},
     "output_type": "execute_result"
    }
   ],
   "source": [
    "unique_labels = [set(l) for l in df_train[\"ner_ids\"]]\n",
    "labels_cnt = len(unique_labels[0].union(*unique_labels[1:]))\n",
    "labels_cnt"
   ]
  },
  {
   "cell_type": "code",
   "execution_count": 12,
   "metadata": {
    "execution": {
     "iopub.status.busy": "2022-04-11T06:53:02.736524Z",
     "iopub.status.idle": "2022-04-11T06:53:02.737166Z",
     "shell.execute_reply": "2022-04-11T06:53:02.73691Z",
     "shell.execute_reply.started": "2022-04-11T06:53:02.736881Z"
    }
   },
   "outputs": [],
   "source": [
    "EXTRA_LABEL = labels_cnt\n",
    "\n",
    "def propagate_labels_to_bert(bert_tokens, premade_tokens, known_labels, dbg_idx=None):\n",
    "    assert len(premade_tokens) == len(known_labels)\n",
    "    \n",
    "    labels = [EXTRA_LABEL for _ in range(len(bert_tokens))]\n",
    "    reconstruction_array = []\n",
    "    \n",
    "    try:\n",
    "        bert_tokens_idx = 1\n",
    "        premade_tokens_idx = 0\n",
    "\n",
    "        while bert_tokens_idx < len(bert_tokens) and premade_tokens_idx < len(premade_tokens):\n",
    "            our_tk = premade_tokens[premade_tokens_idx]\n",
    "            total_eaten = 0\n",
    "\n",
    "            how_many_expanded = 0\n",
    "\n",
    "            while total_eaten < len(our_tk):\n",
    "                their_tk = bert_tokens[bert_tokens_idx]\n",
    "                their_tk_strip = their_tk.replace(\"##\", \"\")\n",
    "                labels[bert_tokens_idx] = known_labels[premade_tokens_idx]\n",
    "\n",
    "                # print(bert_tokens_idx, their_tk, our_tk, known_labels[premade_tokens_idx], \"k =\", total_eaten)\n",
    "\n",
    "                total_eaten += len(their_tk_strip)\n",
    "                bert_tokens_idx += 1\n",
    "\n",
    "                how_many_expanded += 1\n",
    "\n",
    "            reconstruction_array.append(how_many_expanded)\n",
    "\n",
    "            premade_tokens_idx += 1\n",
    "    except Exception as e:\n",
    "        print(\"Invalid tokenization at\", dbg_idx, str(e))\n",
    "        \n",
    "        # Broken entry, just set 0 everywhere. TODO: fix this later.\n",
    "        labels = [0 for _ in range(len(premade_tokens))]\n",
    "        reconstruction_array = [1 for _ in range(len(premade_tokens))]\n",
    "\n",
    "    return labels, reconstruction_array\n",
    "\n",
    "def reconstruct_labels_from_bert(bert_labels, reconstruction_array):\n",
    "    labels = []\n",
    "    bert_idx = 1\n",
    "    \n",
    "    for v in reconstruction_array:\n",
    "        if v == 0 or bert_idx >= len(bert_labels):\n",
    "            break\n",
    "            \n",
    "        #assert len(set(bert_labels[bert_idx:bert_idx+v])) == 1\n",
    "        #print(set(bert_labels[bert_idx:bert_idx+v]))\n",
    "        \n",
    "        labels.append(bert_labels[bert_idx])\n",
    "        bert_idx += v\n",
    "        \n",
    "    return labels"
   ]
  },
  {
   "cell_type": "code",
   "execution_count": 13,
   "metadata": {
    "execution": {
     "iopub.status.busy": "2022-04-11T06:53:02.738687Z",
     "iopub.status.idle": "2022-04-11T06:53:02.739068Z",
     "shell.execute_reply": "2022-04-11T06:53:02.738898Z",
     "shell.execute_reply.started": "2022-04-11T06:53:02.738873Z"
    }
   },
   "outputs": [],
   "source": [
    "first_sentence = rejoin(df_train[\"tokens\"][0], df_train[\"space_after\"][0])\n",
    "first_sentence_encoding = bert_tokenizer([first_sentence])[0].tokens\n",
    "\n",
    "bert_labels, reconstruction_array = propagate_labels_to_bert(first_sentence_encoding, df_train[\"tokens\"][0], df_train[\"ner_ids\"][0])\n",
    "# adding some 0s at the end won't change anything\n",
    "assert reconstruct_labels_from_bert(bert_labels + [0], reconstruction_array + [0, 0, 0]) == df_train[\"ner_ids\"][0]"
   ]
  },
  {
   "cell_type": "code",
   "execution_count": 14,
   "metadata": {
    "execution": {
     "iopub.status.busy": "2022-04-11T06:53:02.740803Z",
     "iopub.status.idle": "2022-04-11T06:53:02.741154Z",
     "shell.execute_reply": "2022-04-11T06:53:02.740998Z",
     "shell.execute_reply.started": "2022-04-11T06:53:02.740972Z"
    }
   },
   "outputs": [],
   "source": [
    "class PerfTimer:\n",
    "    def __init__(self):\n",
    "        self.start_t = 0\n",
    "        \n",
    "    def start(self):\n",
    "        self.start_t = time.time_ns()\n",
    "         \n",
    "    def stop(self, msg = None):\n",
    "        elapsed = time.time_ns() - self.start_t\n",
    "        if msg is not None:\n",
    "            print(f\"{msg}: took {elapsed} ns.\")\n",
    "        else:\n",
    "            print(f\"Elapsed {elapsed} ns.\")\n",
    "        return elapsed\n",
    "\n",
    "def perf_check_tokenize(sentences, labels, tokenizer):\n",
    "    full_sentences = [rejoin(tokens, space_after) for tokens, space_after in sentences]\n",
    "    \n",
    "    timer = PerfTimer()\n",
    "    \n",
    "    timer.start()\n",
    "    tokenized_a = tokenizer(full_sentences)\n",
    "    for i in range(len(full_sentences)):\n",
    "        propagate_labels_to_bert(tokenized_a[i].tokens, sentences[i][0], labels[i])\n",
    "    time_a = timer.stop('Tokenize the whole dataset. (A)')\n",
    "    \n",
    "    timer.start()\n",
    "    tokenized_b = []\n",
    "    for sentence in full_sentences:\n",
    "        tokenized_b.append(tokenizer(sentence))\n",
    "    for i in range(len(full_sentences)):\n",
    "        propagate_labels_to_bert(tokenized_b[i].tokens(), sentences[i][0], labels[i])\n",
    "    time_b = timer.stop('Tokenize each sentence. (B)')\n",
    "        \n",
    "    timer.start()\n",
    "    tokenized_c = []\n",
    "    for tokens, space_after in sentences:\n",
    "        to_add = []\n",
    "        for token in tokens:\n",
    "            to_add.append(tokenizer(token))\n",
    "        tokenized_c.append(to_add)\n",
    "    time_c = timer.stop('Tokenize each word. (C)')\n",
    "    \n",
    "    m = max(time_a, time_b, time_c)\n",
    "    print(f\"Ratio to max {time_a/m:.4f}/{time_b/m:.4f}/{time_c/m:.4f}\")"
   ]
  },
  {
   "cell_type": "code",
   "execution_count": 15,
   "metadata": {
    "execution": {
     "iopub.status.busy": "2022-04-11T06:53:02.742256Z",
     "iopub.status.idle": "2022-04-11T06:53:02.742919Z",
     "shell.execute_reply": "2022-04-11T06:53:02.742755Z",
     "shell.execute_reply.started": "2022-04-11T06:53:02.742707Z"
    }
   },
   "outputs": [
    {
     "name": "stdout",
     "output_type": "stream",
     "text": [
      "Tokenize the whole dataset. (A): took 89005400 ns.\n",
      "Tokenize each sentence. (B): took 239512600 ns.\n",
      "Tokenize each word. (C): took 2768025200 ns.\n",
      "Ratio to max 0.0322/0.0865/1.0000\n"
     ]
    }
   ],
   "source": [
    "perf_check_tokenize(list(zip(df_train[\"tokens\"][:1000], df_train[\"space_after\"][:1000])), df_train[\"ner_ids\"][:1000], bert_tokenizer)"
   ]
  },
  {
   "cell_type": "code",
   "execution_count": 16,
   "metadata": {
    "execution": {
     "iopub.status.busy": "2022-04-11T06:53:02.744299Z",
     "iopub.status.idle": "2022-04-11T06:53:02.744668Z",
     "shell.execute_reply": "2022-04-11T06:53:02.744508Z",
     "shell.execute_reply.started": "2022-04-11T06:53:02.744485Z"
    }
   },
   "outputs": [
    {
     "data": {
      "text/html": [
       "<div>\n",
       "<style scoped>\n",
       "    .dataframe tbody tr th:only-of-type {\n",
       "        vertical-align: middle;\n",
       "    }\n",
       "\n",
       "    .dataframe tbody tr th {\n",
       "        vertical-align: top;\n",
       "    }\n",
       "\n",
       "    .dataframe thead th {\n",
       "        text-align: right;\n",
       "    }\n",
       "</style>\n",
       "<table border=\"1\" class=\"dataframe\">\n",
       "  <thead>\n",
       "    <tr style=\"text-align: right;\">\n",
       "      <th></th>\n",
       "      <th>index</th>\n",
       "      <th>ner_tags</th>\n",
       "      <th>ner_ids</th>\n",
       "      <th>tokens</th>\n",
       "      <th>space_after</th>\n",
       "      <th>sentence</th>\n",
       "    </tr>\n",
       "  </thead>\n",
       "  <tbody>\n",
       "    <tr>\n",
       "      <th>0</th>\n",
       "      <td>0</td>\n",
       "      <td>[O, GPE, O, O, O, O, O, O, LOC, O, O, O, O, O,...</td>\n",
       "      <td>[0, 3, 0, 0, 0, 0, 0, 0, 4, 0, 0, 0, 0, 0, 0, ...</td>\n",
       "      <td>[În, România, ,, ca, de, altfel, în, întreaga,...</td>\n",
       "      <td>[True, False, True, True, True, True, True, Tr...</td>\n",
       "      <td>În România, ca de altfel în întreaga Europă, s...</td>\n",
       "    </tr>\n",
       "    <tr>\n",
       "      <th>1</th>\n",
       "      <td>1</td>\n",
       "      <td>[O, O, O, DATETIME, DATETIME, O, O, O, O, O, O...</td>\n",
       "      <td>[0, 0, 0, 9, 9, 0, 0, 0, 0, 0, 0, 0, 13, 13, 1...</td>\n",
       "      <td>[Se, estimează, că, în, prezent, acestea, sunt...</td>\n",
       "      <td>[True, True, True, True, True, True, True, Tru...</td>\n",
       "      <td>Se estimează că în prezent acestea sunt utiliz...</td>\n",
       "    </tr>\n",
       "    <tr>\n",
       "      <th>2</th>\n",
       "      <td>2</td>\n",
       "      <td>[O, O, O, O, O, NUMERIC, O, O, O, PERSON, O, P...</td>\n",
       "      <td>[0, 0, 0, 0, 0, 13, 0, 0, 0, 1, 0, 1, 0, 0, 1,...</td>\n",
       "      <td>[Cartea, cuprinde, o, suită, de, 115, texte-re...</td>\n",
       "      <td>[True, True, True, True, True, True, True, Tru...</td>\n",
       "      <td>Cartea cuprinde o suită de 115 texte-remember ...</td>\n",
       "    </tr>\n",
       "    <tr>\n",
       "      <th>3</th>\n",
       "      <td>3</td>\n",
       "      <td>[O, O, O, O, O, O, O, O, O, O, O, DATETIME, DA...</td>\n",
       "      <td>[0, 0, 0, 0, 0, 0, 0, 0, 0, 0, 0, 9, 9, 9, 0]</td>\n",
       "      <td>[Bursele, pentru, proiecte, ArtsLink, -, terme...</td>\n",
       "      <td>[True, True, True, True, True, True, True, Tru...</td>\n",
       "      <td>Bursele pentru proiecte ArtsLink - termen limi...</td>\n",
       "    </tr>\n",
       "    <tr>\n",
       "      <th>4</th>\n",
       "      <td>4</td>\n",
       "      <td>[O, O, O, O, O, O, O, O, O, O, O, O, O, O, O, ...</td>\n",
       "      <td>[0, 0, 0, 0, 0, 0, 0, 0, 0, 0, 0, 0, 0, 0, 0, ...</td>\n",
       "      <td>[Aplicația, informațională, este, însoțită, de...</td>\n",
       "      <td>[True, True, True, True, True, True, True, Tru...</td>\n",
       "      <td>Aplicația informațională este însoțită de un s...</td>\n",
       "    </tr>\n",
       "  </tbody>\n",
       "</table>\n",
       "</div>"
      ],
      "text/plain": [
       "   index                                           ner_tags  \\\n",
       "0      0  [O, GPE, O, O, O, O, O, O, LOC, O, O, O, O, O,...   \n",
       "1      1  [O, O, O, DATETIME, DATETIME, O, O, O, O, O, O...   \n",
       "2      2  [O, O, O, O, O, NUMERIC, O, O, O, PERSON, O, P...   \n",
       "3      3  [O, O, O, O, O, O, O, O, O, O, O, DATETIME, DA...   \n",
       "4      4  [O, O, O, O, O, O, O, O, O, O, O, O, O, O, O, ...   \n",
       "\n",
       "                                             ner_ids  \\\n",
       "0  [0, 3, 0, 0, 0, 0, 0, 0, 4, 0, 0, 0, 0, 0, 0, ...   \n",
       "1  [0, 0, 0, 9, 9, 0, 0, 0, 0, 0, 0, 0, 13, 13, 1...   \n",
       "2  [0, 0, 0, 0, 0, 13, 0, 0, 0, 1, 0, 1, 0, 0, 1,...   \n",
       "3      [0, 0, 0, 0, 0, 0, 0, 0, 0, 0, 0, 9, 9, 9, 0]   \n",
       "4  [0, 0, 0, 0, 0, 0, 0, 0, 0, 0, 0, 0, 0, 0, 0, ...   \n",
       "\n",
       "                                              tokens  \\\n",
       "0  [În, România, ,, ca, de, altfel, în, întreaga,...   \n",
       "1  [Se, estimează, că, în, prezent, acestea, sunt...   \n",
       "2  [Cartea, cuprinde, o, suită, de, 115, texte-re...   \n",
       "3  [Bursele, pentru, proiecte, ArtsLink, -, terme...   \n",
       "4  [Aplicația, informațională, este, însoțită, de...   \n",
       "\n",
       "                                         space_after  \\\n",
       "0  [True, False, True, True, True, True, True, Tr...   \n",
       "1  [True, True, True, True, True, True, True, Tru...   \n",
       "2  [True, True, True, True, True, True, True, Tru...   \n",
       "3  [True, True, True, True, True, True, True, Tru...   \n",
       "4  [True, True, True, True, True, True, True, Tru...   \n",
       "\n",
       "                                            sentence  \n",
       "0  În România, ca de altfel în întreaga Europă, s...  \n",
       "1  Se estimează că în prezent acestea sunt utiliz...  \n",
       "2  Cartea cuprinde o suită de 115 texte-remember ...  \n",
       "3  Bursele pentru proiecte ArtsLink - termen limi...  \n",
       "4  Aplicația informațională este însoțită de un s...  "
      ]
     },
     "execution_count": 16,
     "metadata": {},
     "output_type": "execute_result"
    }
   ],
   "source": [
    "df_train[\"sentence\"] = df_train.apply(lambda x: rejoin(x['tokens'], x['space_after']), axis=1)\n",
    "df_train.head()"
   ]
  },
  {
   "cell_type": "code",
   "execution_count": 17,
   "metadata": {
    "execution": {
     "iopub.status.busy": "2022-04-11T06:53:02.745701Z",
     "iopub.status.idle": "2022-04-11T06:53:02.74604Z",
     "shell.execute_reply": "2022-04-11T06:53:02.745894Z",
     "shell.execute_reply.started": "2022-04-11T06:53:02.745872Z"
    }
   },
   "outputs": [],
   "source": [
    "MAX_TOKENS = 240\n",
    "BERT_IN_TOKENS = MAX_TOKENS + 16\n",
    "BERT_PAD = '[PAD]'\n",
    "\n",
    "def fixed_sz(l, sz, elem):\n",
    "    if len(l) >= sz:\n",
    "        return l[:sz] \n",
    "    \n",
    "    return l + [elem for _ in range(sz - len(l))]\n",
    "\n",
    "def bert_encode(tokenizer, tokens, space_after, labels=None, trim=MAX_TOKENS):\n",
    "    sentences = [rejoin(x[:trim], y[:trim]) for x, y in zip(tokens, space_after)]\n",
    "    \n",
    "    bert_encodings = tokenizer(sentences)\n",
    "    bert_labels = []\n",
    "    bert_reconstruction = []\n",
    "    \n",
    "    if labels is not None:\n",
    "        bert_labels_and_reconstruction = [propagate_labels_to_bert(bert_encodings[i].tokens, tokens[i][:trim], labels[i][:trim], dbg_idx=i) for i in range(len(sentences))]\n",
    "        bert_labels = [x[0] for x in bert_labels_and_reconstruction]\n",
    "        bert_reconstruction = [x[1] for x in bert_labels_and_reconstruction]\n",
    "        \n",
    "    return bert_encodings, bert_labels, bert_reconstruction\n",
    "  \n",
    "def bert_decode(bert_labels, reconstruction_arrays):\n",
    "    return [reconstruct_labels_from_bert(labels_i, reconstruction_array_i) for labels_i, reconstruction_array_i in zip(bert_labels, reconstruction_arrays)]\n",
    "\n",
    "assert fixed_sz([1, 2, 3], 4, 0) == [1, 2, 3, 0]\n",
    "assert fixed_sz([1, 2, 3], 3, 0) == [1, 2, 3]\n",
    "assert fixed_sz([1, 2, 3], 2, 0) == [1, 2]"
   ]
  },
  {
   "cell_type": "markdown",
   "metadata": {},
   "source": [
    "**Convert dataset to tensors and prepare loaders and model**"
   ]
  },
  {
   "cell_type": "code",
   "execution_count": 18,
   "metadata": {
    "execution": {
     "iopub.status.busy": "2022-04-11T06:53:02.747243Z",
     "iopub.status.idle": "2022-04-11T06:53:02.747584Z",
     "shell.execute_reply": "2022-04-11T06:53:02.747434Z",
     "shell.execute_reply.started": "2022-04-11T06:53:02.7474Z"
    }
   },
   "outputs": [],
   "source": [
    "class BERTDataset(Dataset):\n",
    "    def __init__(self, encodings, all_labels, all_reconstructions):\n",
    "        self.all_reconstructions = [torch.as_tensor(fixed_sz(all_reconstructions[i], BERT_IN_TOKENS, 0)) for i in range(len(all_labels))]\n",
    "        self.all_tokens = [fixed_sz(encodings[i].tokens, BERT_IN_TOKENS, BERT_PAD) for i in range(len(all_labels))]\n",
    "        self.all_ids = [torch.as_tensor(fixed_sz(encodings[i].ids, BERT_IN_TOKENS, 0)) for i in range(len(all_labels))]\n",
    "        self.all_attention_mask = [torch.as_tensor(fixed_sz(encodings[i].attention_mask, BERT_IN_TOKENS, 0)) for i in range(len(all_labels))]\n",
    "        self.all_labels = [torch.as_tensor(fixed_sz(labels, BERT_IN_TOKENS, EXTRA_LABEL)) for labels in all_labels]\n",
    "\n",
    "    def __getitem__(self, index):\n",
    "        return {\n",
    "            'ids': self.all_ids[index],\n",
    "            'attention_mask': self.all_attention_mask[index],\n",
    "            'reconstruction': self.all_reconstructions[index],\n",
    "            'tokens': self.all_tokens[index],\n",
    "            'labels': self.all_labels[index],\n",
    "        }\n",
    "    \n",
    "    def __len__(self):\n",
    "        return len(self.all_labels)"
   ]
  },
  {
   "cell_type": "code",
   "execution_count": 19,
   "metadata": {
    "execution": {
     "iopub.status.busy": "2022-04-11T06:53:02.749495Z",
     "iopub.status.idle": "2022-04-11T06:53:02.750017Z",
     "shell.execute_reply": "2022-04-11T06:53:02.749815Z",
     "shell.execute_reply.started": "2022-04-11T06:53:02.749785Z"
    }
   },
   "outputs": [
    {
     "name": "stdout",
     "output_type": "stream",
     "text": [
      "Invalid tokenization at 11004 list index out of range\n",
      "BERT Tokenization: took 1534058500 ns.\n"
     ]
    },
    {
     "data": {
      "text/plain": [
       "1534058500"
      ]
     },
     "execution_count": 19,
     "metadata": {},
     "output_type": "execute_result"
    }
   ],
   "source": [
    "timer = PerfTimer()\n",
    "timer.start()\n",
    "bert_encodings, bert_labels, bert_reconstruction = bert_encode(bert_tokenizer, df_train[\"tokens\"], df_train[\"space_after\"], df_train[\"ner_ids\"])\n",
    "timer.stop(\"BERT Tokenization\")"
   ]
  },
  {
   "cell_type": "code",
   "execution_count": 20,
   "metadata": {
    "execution": {
     "iopub.status.busy": "2022-04-11T06:53:02.751108Z",
     "iopub.status.idle": "2022-04-11T06:53:02.751422Z",
     "shell.execute_reply": "2022-04-11T06:53:02.751282Z",
     "shell.execute_reply.started": "2022-04-11T06:53:02.751261Z"
    }
   },
   "outputs": [],
   "source": [
    "# NOTE: For some reason len(bert_encodings) always returns 3 (some strange logic inside), \n",
    "# so pleause use len() on other objects if you want to get the number of rows\n",
    "X = [(bert_encodings[i], bert_labels[i], bert_reconstruction[i]) for i in range(len(bert_labels))]\n",
    "y = df_train[\"ner_ids\"]"
   ]
  },
  {
   "cell_type": "code",
   "execution_count": 21,
   "metadata": {
    "execution": {
     "iopub.status.busy": "2022-04-11T06:53:02.752829Z",
     "iopub.status.idle": "2022-04-11T06:53:02.75339Z",
     "shell.execute_reply": "2022-04-11T06:53:02.753214Z",
     "shell.execute_reply.started": "2022-04-11T06:53:02.75319Z"
    }
   },
   "outputs": [],
   "source": [
    "X_train, X_val, y_train, y_val = train_test_split(X, y, test_size=0.2, random_state=seed, shuffle=True)\n",
    "X_val, X_test, y_val, y_test = train_test_split(X_val, y_val, test_size=0.5, random_state=seed, shuffle=True)"
   ]
  },
  {
   "cell_type": "code",
   "execution_count": 22,
   "metadata": {
    "execution": {
     "iopub.status.busy": "2022-04-11T06:53:02.75435Z",
     "iopub.status.idle": "2022-04-11T06:53:02.755008Z",
     "shell.execute_reply": "2022-04-11T06:53:02.75483Z",
     "shell.execute_reply.started": "2022-04-11T06:53:02.754809Z"
    }
   },
   "outputs": [
    {
     "name": "stdout",
     "output_type": "stream",
     "text": [
      "Invalid tokenization at 146 list index out of range\n",
      "Invalid tokenization at 150 list index out of range\n",
      "Invalid tokenization at 151 list index out of range\n",
      "Invalid tokenization at 157 list index out of range\n",
      "Invalid tokenization at 160 list index out of range\n",
      "Invalid tokenization at 164 list index out of range\n",
      "Invalid tokenization at 165 list index out of range\n",
      "Invalid tokenization at 168 list index out of range\n",
      "Invalid tokenization at 169 list index out of range\n",
      "Invalid tokenization at 172 list index out of range\n",
      "Invalid tokenization at 176 list index out of range\n",
      "Invalid tokenization at 179 list index out of range\n",
      "Invalid tokenization at 182 list index out of range\n",
      "Invalid tokenization at 194 list index out of range\n",
      "Invalid tokenization at 196 list index out of range\n",
      "Invalid tokenization at 197 list index out of range\n",
      "Invalid tokenization at 595 list index out of range\n",
      "Invalid tokenization at 630 list index out of range\n",
      "Invalid tokenization at 720 list index out of range\n",
      "Invalid tokenization at 890 list index out of range\n",
      "Invalid tokenization at 945 list index out of range\n",
      "Invalid tokenization at 1001 list index out of range\n",
      "Invalid tokenization at 1019 list index out of range\n",
      "Invalid tokenization at 1036 list index out of range\n",
      "Invalid tokenization at 1118 list index out of range\n",
      "Invalid tokenization at 1221 list index out of range\n",
      "Invalid tokenization at 1253 list index out of range\n",
      "Invalid tokenization at 1329 list index out of range\n",
      "Invalid tokenization at 1498 list index out of range\n",
      "Invalid tokenization at 1571 list index out of range\n",
      "Invalid tokenization at 1616 list index out of range\n",
      "Invalid tokenization at 1621 list index out of range\n",
      "Invalid tokenization at 1698 list index out of range\n",
      "Invalid tokenization at 1710 list index out of range\n",
      "Invalid tokenization at 1750 list index out of range\n",
      "Invalid tokenization at 1772 list index out of range\n",
      "Invalid tokenization at 1779 list index out of range\n",
      "Invalid tokenization at 1832 list index out of range\n",
      "Invalid tokenization at 1855 list index out of range\n",
      "Invalid tokenization at 1958 list index out of range\n",
      "Invalid tokenization at 1988 list index out of range\n",
      "Invalid tokenization at 2095 list index out of range\n",
      "Invalid tokenization at 2259 list index out of range\n",
      "Invalid tokenization at 2327 list index out of range\n",
      "BERT Tokenization (evaluation set): took 246494500 ns.\n"
     ]
    }
   ],
   "source": [
    "timer = PerfTimer()\n",
    "timer.start()\n",
    "zero_labels = [np.zeros(len(df_evaluation[\"tokens\"][i])) for i in range(len(df_evaluation))]\n",
    "bert_encodings, bert_labels, bert_reconstruction = bert_encode(bert_tokenizer, df_evaluation[\"tokens\"], df_evaluation[\"space_after\"], zero_labels)\n",
    "timer.stop(\"BERT Tokenization (evaluation set)\")\n",
    "\n",
    "X_evaluation = [(bert_encodings[i], bert_labels[i], bert_reconstruction[i]) for i in range(len(bert_labels))]\n",
    "y_evaluation = zero_labels"
   ]
  },
  {
   "cell_type": "code",
   "execution_count": 23,
   "metadata": {
    "execution": {
     "iopub.status.busy": "2022-04-11T06:53:02.756558Z",
     "iopub.status.idle": "2022-04-11T06:53:02.757117Z",
     "shell.execute_reply": "2022-04-11T06:53:02.756882Z",
     "shell.execute_reply.started": "2022-04-11T06:53:02.756851Z"
    }
   },
   "outputs": [],
   "source": [
    "from operator import itemgetter\n",
    "\n",
    "def make_dataset(X, y):\n",
    "    bert_encodings = list(map(itemgetter(0), X))\n",
    "    bert_labels = list(map(itemgetter(1), X))\n",
    "    bert_reconstruction = list(map(itemgetter(2), X))\n",
    "    return BERTDataset(bert_encodings, bert_labels, bert_reconstruction)\n",
    "\n",
    "dataset_train = make_dataset(X_train, y_train)\n",
    "dataset_validation = make_dataset(X_val, y_val)\n",
    "dataset_test = make_dataset(X_test, y_test)\n",
    "\n",
    "dataset_evaluation = make_dataset(X_evaluation, y_evaluation)"
   ]
  },
  {
   "cell_type": "code",
   "execution_count": 24,
   "metadata": {},
   "outputs": [
    {
     "name": "stdout",
     "output_type": "stream",
     "text": [
      "[1.0, 10.497039910176584, 20.243996062992125, 32.162470680218924, 74.40007234581299, 81.57009716438628, 114.10762829403606, 613.9671641791044, 57.80747611017426, 19.242118065300776, 112.11719814663395, 100.77364037236649, 153.14892032762472, 51.39405297351324, 133.688007799805, 121.30875847832498]\n"
     ]
    }
   ],
   "source": [
    "all_ner_ids = df_train[\"ner_ids\"].explode().tolist()\n",
    "\n",
    "import collections\n",
    "counts = collections.OrderedDict(sorted(collections.Counter(all_ner_ids).items()))\n",
    "counts_values = counts.values()\n",
    "max_class = max(counts_values)\n",
    "\n",
    "print([max_class / i for i in counts_values])"
   ]
  },
  {
   "cell_type": "code",
   "execution_count": 25,
   "metadata": {
    "execution": {
     "iopub.status.busy": "2022-04-11T06:53:02.758202Z",
     "iopub.status.idle": "2022-04-11T06:53:02.758799Z",
     "shell.execute_reply": "2022-04-11T06:53:02.758559Z",
     "shell.execute_reply.started": "2022-04-11T06:53:02.758526Z"
    }
   },
   "outputs": [
    {
     "name": "stderr",
     "output_type": "stream",
     "text": [
      "Some weights of the model checkpoint at dumitrescustefan/bert-base-romanian-cased-v1 were not used when initializing BertForTokenClassification: ['cls.seq_relationship.weight', 'cls.predictions.transform.LayerNorm.bias', 'cls.predictions.bias', 'cls.predictions.transform.dense.bias', 'cls.predictions.decoder.bias', 'cls.predictions.transform.dense.weight', 'cls.seq_relationship.bias', 'cls.predictions.transform.LayerNorm.weight', 'cls.predictions.decoder.weight']\n",
      "- This IS expected if you are initializing BertForTokenClassification from the checkpoint of a model trained on another task or with another architecture (e.g. initializing a BertForSequenceClassification model from a BertForPreTraining model).\n",
      "- This IS NOT expected if you are initializing BertForTokenClassification from the checkpoint of a model that you expect to be exactly identical (initializing a BertForSequenceClassification model from a BertForSequenceClassification model).\n",
      "Some weights of BertForTokenClassification were not initialized from the model checkpoint at dumitrescustefan/bert-base-romanian-cased-v1 and are newly initialized: ['classifier.weight', 'classifier.bias']\n",
      "You should probably TRAIN this model on a down-stream task to be able to use it for predictions and inference.\n"
     ]
    },
    {
     "data": {
      "text/plain": [
       "BertForTokenClassification(\n",
       "  (bert): BertModel(\n",
       "    (embeddings): BertEmbeddings(\n",
       "      (word_embeddings): Embedding(50000, 768, padding_idx=0)\n",
       "      (position_embeddings): Embedding(512, 768)\n",
       "      (token_type_embeddings): Embedding(2, 768)\n",
       "      (LayerNorm): LayerNorm((768,), eps=1e-12, elementwise_affine=True)\n",
       "      (dropout): Dropout(p=0.4, inplace=False)\n",
       "    )\n",
       "    (encoder): BertEncoder(\n",
       "      (layer): ModuleList(\n",
       "        (0): BertLayer(\n",
       "          (attention): BertAttention(\n",
       "            (self): BertSelfAttention(\n",
       "              (query): Linear(in_features=768, out_features=768, bias=True)\n",
       "              (key): Linear(in_features=768, out_features=768, bias=True)\n",
       "              (value): Linear(in_features=768, out_features=768, bias=True)\n",
       "              (dropout): Dropout(p=0.4, inplace=False)\n",
       "            )\n",
       "            (output): BertSelfOutput(\n",
       "              (dense): Linear(in_features=768, out_features=768, bias=True)\n",
       "              (LayerNorm): LayerNorm((768,), eps=1e-12, elementwise_affine=True)\n",
       "              (dropout): Dropout(p=0.4, inplace=False)\n",
       "            )\n",
       "          )\n",
       "          (intermediate): BertIntermediate(\n",
       "            (dense): Linear(in_features=768, out_features=3072, bias=True)\n",
       "            (intermediate_act_fn): GELUActivation()\n",
       "          )\n",
       "          (output): BertOutput(\n",
       "            (dense): Linear(in_features=3072, out_features=768, bias=True)\n",
       "            (LayerNorm): LayerNorm((768,), eps=1e-12, elementwise_affine=True)\n",
       "            (dropout): Dropout(p=0.4, inplace=False)\n",
       "          )\n",
       "        )\n",
       "        (1): BertLayer(\n",
       "          (attention): BertAttention(\n",
       "            (self): BertSelfAttention(\n",
       "              (query): Linear(in_features=768, out_features=768, bias=True)\n",
       "              (key): Linear(in_features=768, out_features=768, bias=True)\n",
       "              (value): Linear(in_features=768, out_features=768, bias=True)\n",
       "              (dropout): Dropout(p=0.4, inplace=False)\n",
       "            )\n",
       "            (output): BertSelfOutput(\n",
       "              (dense): Linear(in_features=768, out_features=768, bias=True)\n",
       "              (LayerNorm): LayerNorm((768,), eps=1e-12, elementwise_affine=True)\n",
       "              (dropout): Dropout(p=0.4, inplace=False)\n",
       "            )\n",
       "          )\n",
       "          (intermediate): BertIntermediate(\n",
       "            (dense): Linear(in_features=768, out_features=3072, bias=True)\n",
       "            (intermediate_act_fn): GELUActivation()\n",
       "          )\n",
       "          (output): BertOutput(\n",
       "            (dense): Linear(in_features=3072, out_features=768, bias=True)\n",
       "            (LayerNorm): LayerNorm((768,), eps=1e-12, elementwise_affine=True)\n",
       "            (dropout): Dropout(p=0.4, inplace=False)\n",
       "          )\n",
       "        )\n",
       "        (2): BertLayer(\n",
       "          (attention): BertAttention(\n",
       "            (self): BertSelfAttention(\n",
       "              (query): Linear(in_features=768, out_features=768, bias=True)\n",
       "              (key): Linear(in_features=768, out_features=768, bias=True)\n",
       "              (value): Linear(in_features=768, out_features=768, bias=True)\n",
       "              (dropout): Dropout(p=0.4, inplace=False)\n",
       "            )\n",
       "            (output): BertSelfOutput(\n",
       "              (dense): Linear(in_features=768, out_features=768, bias=True)\n",
       "              (LayerNorm): LayerNorm((768,), eps=1e-12, elementwise_affine=True)\n",
       "              (dropout): Dropout(p=0.4, inplace=False)\n",
       "            )\n",
       "          )\n",
       "          (intermediate): BertIntermediate(\n",
       "            (dense): Linear(in_features=768, out_features=3072, bias=True)\n",
       "            (intermediate_act_fn): GELUActivation()\n",
       "          )\n",
       "          (output): BertOutput(\n",
       "            (dense): Linear(in_features=3072, out_features=768, bias=True)\n",
       "            (LayerNorm): LayerNorm((768,), eps=1e-12, elementwise_affine=True)\n",
       "            (dropout): Dropout(p=0.4, inplace=False)\n",
       "          )\n",
       "        )\n",
       "        (3): BertLayer(\n",
       "          (attention): BertAttention(\n",
       "            (self): BertSelfAttention(\n",
       "              (query): Linear(in_features=768, out_features=768, bias=True)\n",
       "              (key): Linear(in_features=768, out_features=768, bias=True)\n",
       "              (value): Linear(in_features=768, out_features=768, bias=True)\n",
       "              (dropout): Dropout(p=0.4, inplace=False)\n",
       "            )\n",
       "            (output): BertSelfOutput(\n",
       "              (dense): Linear(in_features=768, out_features=768, bias=True)\n",
       "              (LayerNorm): LayerNorm((768,), eps=1e-12, elementwise_affine=True)\n",
       "              (dropout): Dropout(p=0.4, inplace=False)\n",
       "            )\n",
       "          )\n",
       "          (intermediate): BertIntermediate(\n",
       "            (dense): Linear(in_features=768, out_features=3072, bias=True)\n",
       "            (intermediate_act_fn): GELUActivation()\n",
       "          )\n",
       "          (output): BertOutput(\n",
       "            (dense): Linear(in_features=3072, out_features=768, bias=True)\n",
       "            (LayerNorm): LayerNorm((768,), eps=1e-12, elementwise_affine=True)\n",
       "            (dropout): Dropout(p=0.4, inplace=False)\n",
       "          )\n",
       "        )\n",
       "        (4): BertLayer(\n",
       "          (attention): BertAttention(\n",
       "            (self): BertSelfAttention(\n",
       "              (query): Linear(in_features=768, out_features=768, bias=True)\n",
       "              (key): Linear(in_features=768, out_features=768, bias=True)\n",
       "              (value): Linear(in_features=768, out_features=768, bias=True)\n",
       "              (dropout): Dropout(p=0.4, inplace=False)\n",
       "            )\n",
       "            (output): BertSelfOutput(\n",
       "              (dense): Linear(in_features=768, out_features=768, bias=True)\n",
       "              (LayerNorm): LayerNorm((768,), eps=1e-12, elementwise_affine=True)\n",
       "              (dropout): Dropout(p=0.4, inplace=False)\n",
       "            )\n",
       "          )\n",
       "          (intermediate): BertIntermediate(\n",
       "            (dense): Linear(in_features=768, out_features=3072, bias=True)\n",
       "            (intermediate_act_fn): GELUActivation()\n",
       "          )\n",
       "          (output): BertOutput(\n",
       "            (dense): Linear(in_features=3072, out_features=768, bias=True)\n",
       "            (LayerNorm): LayerNorm((768,), eps=1e-12, elementwise_affine=True)\n",
       "            (dropout): Dropout(p=0.4, inplace=False)\n",
       "          )\n",
       "        )\n",
       "        (5): BertLayer(\n",
       "          (attention): BertAttention(\n",
       "            (self): BertSelfAttention(\n",
       "              (query): Linear(in_features=768, out_features=768, bias=True)\n",
       "              (key): Linear(in_features=768, out_features=768, bias=True)\n",
       "              (value): Linear(in_features=768, out_features=768, bias=True)\n",
       "              (dropout): Dropout(p=0.4, inplace=False)\n",
       "            )\n",
       "            (output): BertSelfOutput(\n",
       "              (dense): Linear(in_features=768, out_features=768, bias=True)\n",
       "              (LayerNorm): LayerNorm((768,), eps=1e-12, elementwise_affine=True)\n",
       "              (dropout): Dropout(p=0.4, inplace=False)\n",
       "            )\n",
       "          )\n",
       "          (intermediate): BertIntermediate(\n",
       "            (dense): Linear(in_features=768, out_features=3072, bias=True)\n",
       "            (intermediate_act_fn): GELUActivation()\n",
       "          )\n",
       "          (output): BertOutput(\n",
       "            (dense): Linear(in_features=3072, out_features=768, bias=True)\n",
       "            (LayerNorm): LayerNorm((768,), eps=1e-12, elementwise_affine=True)\n",
       "            (dropout): Dropout(p=0.4, inplace=False)\n",
       "          )\n",
       "        )\n",
       "        (6): BertLayer(\n",
       "          (attention): BertAttention(\n",
       "            (self): BertSelfAttention(\n",
       "              (query): Linear(in_features=768, out_features=768, bias=True)\n",
       "              (key): Linear(in_features=768, out_features=768, bias=True)\n",
       "              (value): Linear(in_features=768, out_features=768, bias=True)\n",
       "              (dropout): Dropout(p=0.4, inplace=False)\n",
       "            )\n",
       "            (output): BertSelfOutput(\n",
       "              (dense): Linear(in_features=768, out_features=768, bias=True)\n",
       "              (LayerNorm): LayerNorm((768,), eps=1e-12, elementwise_affine=True)\n",
       "              (dropout): Dropout(p=0.4, inplace=False)\n",
       "            )\n",
       "          )\n",
       "          (intermediate): BertIntermediate(\n",
       "            (dense): Linear(in_features=768, out_features=3072, bias=True)\n",
       "            (intermediate_act_fn): GELUActivation()\n",
       "          )\n",
       "          (output): BertOutput(\n",
       "            (dense): Linear(in_features=3072, out_features=768, bias=True)\n",
       "            (LayerNorm): LayerNorm((768,), eps=1e-12, elementwise_affine=True)\n",
       "            (dropout): Dropout(p=0.4, inplace=False)\n",
       "          )\n",
       "        )\n",
       "        (7): BertLayer(\n",
       "          (attention): BertAttention(\n",
       "            (self): BertSelfAttention(\n",
       "              (query): Linear(in_features=768, out_features=768, bias=True)\n",
       "              (key): Linear(in_features=768, out_features=768, bias=True)\n",
       "              (value): Linear(in_features=768, out_features=768, bias=True)\n",
       "              (dropout): Dropout(p=0.4, inplace=False)\n",
       "            )\n",
       "            (output): BertSelfOutput(\n",
       "              (dense): Linear(in_features=768, out_features=768, bias=True)\n",
       "              (LayerNorm): LayerNorm((768,), eps=1e-12, elementwise_affine=True)\n",
       "              (dropout): Dropout(p=0.4, inplace=False)\n",
       "            )\n",
       "          )\n",
       "          (intermediate): BertIntermediate(\n",
       "            (dense): Linear(in_features=768, out_features=3072, bias=True)\n",
       "            (intermediate_act_fn): GELUActivation()\n",
       "          )\n",
       "          (output): BertOutput(\n",
       "            (dense): Linear(in_features=3072, out_features=768, bias=True)\n",
       "            (LayerNorm): LayerNorm((768,), eps=1e-12, elementwise_affine=True)\n",
       "            (dropout): Dropout(p=0.4, inplace=False)\n",
       "          )\n",
       "        )\n",
       "        (8): BertLayer(\n",
       "          (attention): BertAttention(\n",
       "            (self): BertSelfAttention(\n",
       "              (query): Linear(in_features=768, out_features=768, bias=True)\n",
       "              (key): Linear(in_features=768, out_features=768, bias=True)\n",
       "              (value): Linear(in_features=768, out_features=768, bias=True)\n",
       "              (dropout): Dropout(p=0.4, inplace=False)\n",
       "            )\n",
       "            (output): BertSelfOutput(\n",
       "              (dense): Linear(in_features=768, out_features=768, bias=True)\n",
       "              (LayerNorm): LayerNorm((768,), eps=1e-12, elementwise_affine=True)\n",
       "              (dropout): Dropout(p=0.4, inplace=False)\n",
       "            )\n",
       "          )\n",
       "          (intermediate): BertIntermediate(\n",
       "            (dense): Linear(in_features=768, out_features=3072, bias=True)\n",
       "            (intermediate_act_fn): GELUActivation()\n",
       "          )\n",
       "          (output): BertOutput(\n",
       "            (dense): Linear(in_features=3072, out_features=768, bias=True)\n",
       "            (LayerNorm): LayerNorm((768,), eps=1e-12, elementwise_affine=True)\n",
       "            (dropout): Dropout(p=0.4, inplace=False)\n",
       "          )\n",
       "        )\n",
       "        (9): BertLayer(\n",
       "          (attention): BertAttention(\n",
       "            (self): BertSelfAttention(\n",
       "              (query): Linear(in_features=768, out_features=768, bias=True)\n",
       "              (key): Linear(in_features=768, out_features=768, bias=True)\n",
       "              (value): Linear(in_features=768, out_features=768, bias=True)\n",
       "              (dropout): Dropout(p=0.4, inplace=False)\n",
       "            )\n",
       "            (output): BertSelfOutput(\n",
       "              (dense): Linear(in_features=768, out_features=768, bias=True)\n",
       "              (LayerNorm): LayerNorm((768,), eps=1e-12, elementwise_affine=True)\n",
       "              (dropout): Dropout(p=0.4, inplace=False)\n",
       "            )\n",
       "          )\n",
       "          (intermediate): BertIntermediate(\n",
       "            (dense): Linear(in_features=768, out_features=3072, bias=True)\n",
       "            (intermediate_act_fn): GELUActivation()\n",
       "          )\n",
       "          (output): BertOutput(\n",
       "            (dense): Linear(in_features=3072, out_features=768, bias=True)\n",
       "            (LayerNorm): LayerNorm((768,), eps=1e-12, elementwise_affine=True)\n",
       "            (dropout): Dropout(p=0.4, inplace=False)\n",
       "          )\n",
       "        )\n",
       "        (10): BertLayer(\n",
       "          (attention): BertAttention(\n",
       "            (self): BertSelfAttention(\n",
       "              (query): Linear(in_features=768, out_features=768, bias=True)\n",
       "              (key): Linear(in_features=768, out_features=768, bias=True)\n",
       "              (value): Linear(in_features=768, out_features=768, bias=True)\n",
       "              (dropout): Dropout(p=0.4, inplace=False)\n",
       "            )\n",
       "            (output): BertSelfOutput(\n",
       "              (dense): Linear(in_features=768, out_features=768, bias=True)\n",
       "              (LayerNorm): LayerNorm((768,), eps=1e-12, elementwise_affine=True)\n",
       "              (dropout): Dropout(p=0.4, inplace=False)\n",
       "            )\n",
       "          )\n",
       "          (intermediate): BertIntermediate(\n",
       "            (dense): Linear(in_features=768, out_features=3072, bias=True)\n",
       "            (intermediate_act_fn): GELUActivation()\n",
       "          )\n",
       "          (output): BertOutput(\n",
       "            (dense): Linear(in_features=3072, out_features=768, bias=True)\n",
       "            (LayerNorm): LayerNorm((768,), eps=1e-12, elementwise_affine=True)\n",
       "            (dropout): Dropout(p=0.4, inplace=False)\n",
       "          )\n",
       "        )\n",
       "        (11): BertLayer(\n",
       "          (attention): BertAttention(\n",
       "            (self): BertSelfAttention(\n",
       "              (query): Linear(in_features=768, out_features=768, bias=True)\n",
       "              (key): Linear(in_features=768, out_features=768, bias=True)\n",
       "              (value): Linear(in_features=768, out_features=768, bias=True)\n",
       "              (dropout): Dropout(p=0.4, inplace=False)\n",
       "            )\n",
       "            (output): BertSelfOutput(\n",
       "              (dense): Linear(in_features=768, out_features=768, bias=True)\n",
       "              (LayerNorm): LayerNorm((768,), eps=1e-12, elementwise_affine=True)\n",
       "              (dropout): Dropout(p=0.4, inplace=False)\n",
       "            )\n",
       "          )\n",
       "          (intermediate): BertIntermediate(\n",
       "            (dense): Linear(in_features=768, out_features=3072, bias=True)\n",
       "            (intermediate_act_fn): GELUActivation()\n",
       "          )\n",
       "          (output): BertOutput(\n",
       "            (dense): Linear(in_features=3072, out_features=768, bias=True)\n",
       "            (LayerNorm): LayerNorm((768,), eps=1e-12, elementwise_affine=True)\n",
       "            (dropout): Dropout(p=0.4, inplace=False)\n",
       "          )\n",
       "        )\n",
       "      )\n",
       "    )\n",
       "  )\n",
       "  (dropout): Dropout(p=0.4, inplace=False)\n",
       "  (classifier): Linear(in_features=768, out_features=17, bias=True)\n",
       ")"
      ]
     },
     "execution_count": 25,
     "metadata": {},
     "output_type": "execute_result"
    }
   ],
   "source": [
    "from torch import cuda\n",
    "device = 'cuda' if cuda.is_available() else 'cpu'\n",
    "\n",
    "configuration = AutoConfig.from_pretrained('dumitrescustefan/bert-base-romanian-cased-v1')\n",
    "configuration.classifier_dropout = 0.4\n",
    "configuration.attention_probs_dropout_prob = 0.4\n",
    "configuration.hidden_dropout_prob = 0.4\n",
    "\n",
    "configuration.num_labels = labels_cnt + 1\n",
    "        \n",
    "model = BertForTokenClassification.from_pretrained(pretrained_model_name_or_path = 'dumitrescustefan/bert-base-romanian-cased-v1', config=configuration)\n",
    "\n",
    "#model = BertForTokenClassification.from_pretrained('dumitrescustefan/bert-base-romanian-cased-v1', num_labels=labels_cnt + 1)\n",
    "model.to(device)"
   ]
  },
  {
   "cell_type": "code",
   "execution_count": 26,
   "metadata": {
    "execution": {
     "iopub.status.busy": "2022-04-11T06:53:02.759846Z",
     "iopub.status.idle": "2022-04-11T06:53:02.760158Z",
     "shell.execute_reply": "2022-04-11T06:53:02.760014Z",
     "shell.execute_reply.started": "2022-04-11T06:53:02.759993Z"
    }
   },
   "outputs": [
    {
     "name": "stdout",
     "output_type": "stream",
     "text": [
      "I will be frozen: bert.embeddings.word_embeddings.weight\n",
      "I will be frozen: bert.embeddings.position_embeddings.weight\n",
      "I will be frozen: bert.embeddings.token_type_embeddings.weight\n",
      "I will be frozen: bert.embeddings.LayerNorm.weight\n",
      "I will be frozen: bert.embeddings.LayerNorm.bias\n",
      "I will be frozen: bert.encoder.layer.0.attention.self.query.weight\n",
      "I will be frozen: bert.encoder.layer.0.attention.self.query.bias\n",
      "I will be frozen: bert.encoder.layer.0.attention.self.key.weight\n",
      "I will be frozen: bert.encoder.layer.0.attention.self.key.bias\n",
      "I will be frozen: bert.encoder.layer.0.attention.self.value.weight\n",
      "I will be frozen: bert.encoder.layer.0.attention.self.value.bias\n",
      "I will be frozen: bert.encoder.layer.0.attention.output.dense.weight\n",
      "I will be frozen: bert.encoder.layer.0.attention.output.dense.bias\n",
      "I will be frozen: bert.encoder.layer.0.attention.output.LayerNorm.weight\n",
      "I will be frozen: bert.encoder.layer.0.attention.output.LayerNorm.bias\n",
      "I will be frozen: bert.encoder.layer.0.intermediate.dense.weight\n",
      "I will be frozen: bert.encoder.layer.0.intermediate.dense.bias\n",
      "I will be frozen: bert.encoder.layer.0.output.dense.weight\n",
      "I will be frozen: bert.encoder.layer.0.output.dense.bias\n",
      "I will be frozen: bert.encoder.layer.0.output.LayerNorm.weight\n",
      "I will be frozen: bert.encoder.layer.0.output.LayerNorm.bias\n",
      "I will be frozen: bert.encoder.layer.1.attention.self.query.weight\n",
      "I will be frozen: bert.encoder.layer.1.attention.self.query.bias\n",
      "I will be frozen: bert.encoder.layer.1.attention.self.key.weight\n",
      "I will be frozen: bert.encoder.layer.1.attention.self.key.bias\n",
      "I will be frozen: bert.encoder.layer.1.attention.self.value.weight\n",
      "I will be frozen: bert.encoder.layer.1.attention.self.value.bias\n",
      "I will be frozen: bert.encoder.layer.1.attention.output.dense.weight\n",
      "I will be frozen: bert.encoder.layer.1.attention.output.dense.bias\n",
      "I will be frozen: bert.encoder.layer.1.attention.output.LayerNorm.weight\n",
      "I will be frozen: bert.encoder.layer.1.attention.output.LayerNorm.bias\n",
      "I will be frozen: bert.encoder.layer.1.intermediate.dense.weight\n",
      "I will be frozen: bert.encoder.layer.1.intermediate.dense.bias\n",
      "I will be frozen: bert.encoder.layer.1.output.dense.weight\n",
      "I will be frozen: bert.encoder.layer.1.output.dense.bias\n",
      "I will be frozen: bert.encoder.layer.1.output.LayerNorm.weight\n",
      "I will be frozen: bert.encoder.layer.1.output.LayerNorm.bias\n",
      "I will be frozen: bert.encoder.layer.2.attention.self.query.weight\n",
      "I will be frozen: bert.encoder.layer.2.attention.self.query.bias\n",
      "I will be frozen: bert.encoder.layer.2.attention.self.key.weight\n",
      "I will be frozen: bert.encoder.layer.2.attention.self.key.bias\n",
      "I will be frozen: bert.encoder.layer.2.attention.self.value.weight\n",
      "I will be frozen: bert.encoder.layer.2.attention.self.value.bias\n",
      "I will be frozen: bert.encoder.layer.2.attention.output.dense.weight\n",
      "I will be frozen: bert.encoder.layer.2.attention.output.dense.bias\n",
      "I will be frozen: bert.encoder.layer.2.attention.output.LayerNorm.weight\n",
      "I will be frozen: bert.encoder.layer.2.attention.output.LayerNorm.bias\n",
      "I will be frozen: bert.encoder.layer.2.intermediate.dense.weight\n",
      "I will be frozen: bert.encoder.layer.2.intermediate.dense.bias\n",
      "I will be frozen: bert.encoder.layer.2.output.dense.weight\n",
      "I will be frozen: bert.encoder.layer.2.output.dense.bias\n",
      "I will be frozen: bert.encoder.layer.2.output.LayerNorm.weight\n",
      "I will be frozen: bert.encoder.layer.2.output.LayerNorm.bias\n",
      "I will be frozen: bert.encoder.layer.3.attention.self.query.weight\n",
      "I will be frozen: bert.encoder.layer.3.attention.self.query.bias\n",
      "I will be frozen: bert.encoder.layer.3.attention.self.key.weight\n",
      "I will be frozen: bert.encoder.layer.3.attention.self.key.bias\n",
      "I will be frozen: bert.encoder.layer.3.attention.self.value.weight\n",
      "I will be frozen: bert.encoder.layer.3.attention.self.value.bias\n",
      "I will be frozen: bert.encoder.layer.3.attention.output.dense.weight\n",
      "I will be frozen: bert.encoder.layer.3.attention.output.dense.bias\n",
      "I will be frozen: bert.encoder.layer.3.attention.output.LayerNorm.weight\n",
      "I will be frozen: bert.encoder.layer.3.attention.output.LayerNorm.bias\n",
      "I will be frozen: bert.encoder.layer.3.intermediate.dense.weight\n",
      "I will be frozen: bert.encoder.layer.3.intermediate.dense.bias\n",
      "I will be frozen: bert.encoder.layer.3.output.dense.weight\n",
      "I will be frozen: bert.encoder.layer.3.output.dense.bias\n",
      "I will be frozen: bert.encoder.layer.3.output.LayerNorm.weight\n",
      "I will be frozen: bert.encoder.layer.3.output.LayerNorm.bias\n",
      "I will be frozen: bert.encoder.layer.4.attention.self.query.weight\n",
      "I will be frozen: bert.encoder.layer.4.attention.self.query.bias\n",
      "I will be frozen: bert.encoder.layer.4.attention.self.key.weight\n",
      "I will be frozen: bert.encoder.layer.4.attention.self.key.bias\n",
      "I will be frozen: bert.encoder.layer.4.attention.self.value.weight\n",
      "I will be frozen: bert.encoder.layer.4.attention.self.value.bias\n",
      "I will be frozen: bert.encoder.layer.4.attention.output.dense.weight\n",
      "I will be frozen: bert.encoder.layer.4.attention.output.dense.bias\n",
      "I will be frozen: bert.encoder.layer.4.attention.output.LayerNorm.weight\n",
      "I will be frozen: bert.encoder.layer.4.attention.output.LayerNorm.bias\n",
      "I will be frozen: bert.encoder.layer.4.intermediate.dense.weight\n",
      "I will be frozen: bert.encoder.layer.4.intermediate.dense.bias\n",
      "I will be frozen: bert.encoder.layer.4.output.dense.weight\n",
      "I will be frozen: bert.encoder.layer.4.output.dense.bias\n",
      "I will be frozen: bert.encoder.layer.4.output.LayerNorm.weight\n",
      "I will be frozen: bert.encoder.layer.4.output.LayerNorm.bias\n",
      "I will be frozen: bert.encoder.layer.5.attention.self.query.weight\n",
      "I will be frozen: bert.encoder.layer.5.attention.self.query.bias\n",
      "I will be frozen: bert.encoder.layer.5.attention.self.key.weight\n",
      "I will be frozen: bert.encoder.layer.5.attention.self.key.bias\n",
      "I will be frozen: bert.encoder.layer.5.attention.self.value.weight\n",
      "I will be frozen: bert.encoder.layer.5.attention.self.value.bias\n",
      "I will be frozen: bert.encoder.layer.5.attention.output.dense.weight\n",
      "I will be frozen: bert.encoder.layer.5.attention.output.dense.bias\n",
      "I will be frozen: bert.encoder.layer.5.attention.output.LayerNorm.weight\n",
      "I will be frozen: bert.encoder.layer.5.attention.output.LayerNorm.bias\n",
      "I will be frozen: bert.encoder.layer.5.intermediate.dense.weight\n",
      "I will be frozen: bert.encoder.layer.5.intermediate.dense.bias\n",
      "I will be frozen: bert.encoder.layer.5.output.dense.weight\n",
      "I will be frozen: bert.encoder.layer.5.output.dense.bias\n",
      "I will be frozen: bert.encoder.layer.5.output.LayerNorm.weight\n",
      "I will be frozen: bert.encoder.layer.5.output.LayerNorm.bias\n",
      "I will be frozen: bert.encoder.layer.6.attention.self.query.weight\n",
      "I will be frozen: bert.encoder.layer.6.attention.self.query.bias\n",
      "I will be frozen: bert.encoder.layer.6.attention.self.key.weight\n",
      "I will be frozen: bert.encoder.layer.6.attention.self.key.bias\n",
      "I will be frozen: bert.encoder.layer.6.attention.self.value.weight\n",
      "I will be frozen: bert.encoder.layer.6.attention.self.value.bias\n",
      "I will be frozen: bert.encoder.layer.6.attention.output.dense.weight\n",
      "I will be frozen: bert.encoder.layer.6.attention.output.dense.bias\n",
      "I will be frozen: bert.encoder.layer.6.attention.output.LayerNorm.weight\n",
      "I will be frozen: bert.encoder.layer.6.attention.output.LayerNorm.bias\n",
      "I will be frozen: bert.encoder.layer.6.intermediate.dense.weight\n",
      "I will be frozen: bert.encoder.layer.6.intermediate.dense.bias\n",
      "I will be frozen: bert.encoder.layer.6.output.dense.weight\n",
      "I will be frozen: bert.encoder.layer.6.output.dense.bias\n",
      "I will be frozen: bert.encoder.layer.6.output.LayerNorm.weight\n",
      "I will be frozen: bert.encoder.layer.6.output.LayerNorm.bias\n",
      "I will be frozen: bert.encoder.layer.7.attention.self.query.weight\n",
      "I will be frozen: bert.encoder.layer.7.attention.self.query.bias\n",
      "I will be frozen: bert.encoder.layer.7.attention.self.key.weight\n",
      "I will be frozen: bert.encoder.layer.7.attention.self.key.bias\n",
      "I will be frozen: bert.encoder.layer.7.attention.self.value.weight\n",
      "I will be frozen: bert.encoder.layer.7.attention.self.value.bias\n",
      "I will be frozen: bert.encoder.layer.7.attention.output.dense.weight\n",
      "I will be frozen: bert.encoder.layer.7.attention.output.dense.bias\n",
      "I will be frozen: bert.encoder.layer.7.attention.output.LayerNorm.weight\n",
      "I will be frozen: bert.encoder.layer.7.attention.output.LayerNorm.bias\n",
      "I will be frozen: bert.encoder.layer.7.intermediate.dense.weight\n",
      "I will be frozen: bert.encoder.layer.7.intermediate.dense.bias\n",
      "I will be frozen: bert.encoder.layer.7.output.dense.weight\n",
      "I will be frozen: bert.encoder.layer.7.output.dense.bias\n",
      "I will be frozen: bert.encoder.layer.7.output.LayerNorm.weight\n",
      "I will be frozen: bert.encoder.layer.7.output.LayerNorm.bias\n"
     ]
    }
   ],
   "source": [
    "active = ['classifier.weight', 'classifier.bias', ]\n",
    "for name, param in model.named_parameters():\n",
    "    if name in active:\n",
    "        param.requires_grad = True\n",
    "    else:\n",
    "        param.requires_grad = True\n",
    "        \n",
    "# freeze first 6 layers of training parameters\n",
    "\n",
    "for name, param in list(model.named_parameters())[:-66]: \n",
    "    print('I will be frozen: {}'.format(name)) \n",
    "    param.requires_grad = False"
   ]
  },
  {
   "cell_type": "code",
   "execution_count": 39,
   "metadata": {
    "execution": {
     "iopub.status.busy": "2022-04-11T06:53:02.761705Z",
     "iopub.status.idle": "2022-04-11T06:53:02.762413Z",
     "shell.execute_reply": "2022-04-11T06:53:02.762256Z",
     "shell.execute_reply.started": "2022-04-11T06:53:02.762235Z"
    }
   },
   "outputs": [],
   "source": [
    "from tqdm import tqdm\n",
    "\n",
    "# def report(y_true, y_predict):\n",
    "#     acc = balanced_accuracy_score(y_true, y_predict)\n",
    "#     recall = recall_score(y_true, y_predict, average='micro')\n",
    "#     f1 = f1_score(y_true, y_predict, average='micro')\n",
    "#     return acc, recall, f1\n",
    "\n",
    "def report(y_true, y_predict):\n",
    "    labels = set(y_true)\n",
    "    y_predict = [-1 if y not in labels else y for y in y_predict] + [-1]\n",
    "    y_true = list(y_true) + [-1]\n",
    "    \n",
    "    acc = balanced_accuracy_score(y_true, y_predict)\n",
    "    recall = recall_score(y_true, y_predict, average='micro')\n",
    "    f1 = f1_score(y_true, y_predict, average='micro')\n",
    "    return acc, recall, f1\n",
    "\n",
    "def get_loader_params(batch_size):\n",
    "    return {\n",
    "        'batch_size': batch_size,\n",
    "        'shuffle': True,\n",
    "        'num_workers': 0\n",
    "    }\n",
    "\n",
    "class ScoreTracker:\n",
    "    def __init__(self):\n",
    "        self.reset()\n",
    "\n",
    "    def update(self, loss, y_true, y_pred):\n",
    "        self.total_loss += loss\n",
    "        \n",
    "        acc, recall, f1 = report(y_true, y_pred)\n",
    "        self.acc_total += acc\n",
    "        self.recall_total += recall\n",
    "        self.f1_total += f1\n",
    "        \n",
    "        self.batches += 1\n",
    "        \n",
    "    def reset(self):\n",
    "        self.total_loss = 0.0\n",
    "        self.acc_total = 0.0\n",
    "        self.recall_total = 0.0\n",
    "        self.f1_total = 0.0\n",
    "        self.batches = 0\n",
    "        \n",
    "    def get(self):\n",
    "        return (\n",
    "            self.total_loss / self.batches,\n",
    "            self.acc_total / self.batches,\n",
    "            self.recall_total / self.batches,\n",
    "            self.f1_total / self.batches,\n",
    "        )\n",
    "    \n",
    "    def get_str(self):\n",
    "        values = self.get()\n",
    "        return f\"Averages: Loss {values[0]:.3f} Accuracy: {values[1]:.3f} Recall: {values[2]:.3f} F1-Score: {values[3]:.3f}\"\n",
    "     \n",
    "def compute_model_output(model, batch):\n",
    "    # move batch to GPU\n",
    "    bacth_ids            = batch['ids'].to(device, dtype = torch.long)\n",
    "    batch_attention_mask = batch['attention_mask'].to(device, dtype = torch.long)\n",
    "    batch_labels         = batch['labels'].to(device, dtype = torch.long)\n",
    "\n",
    "    # loss and probabilities\n",
    "    loss, logits = model(input_ids=bacth_ids, attention_mask=batch_attention_mask, labels=batch_labels).values()\n",
    "\n",
    "    # get predictions (flat)\n",
    "    flattened_labels = batch_labels.view(-1)\n",
    "    active_logits = logits.view(-1, model.num_labels)\n",
    "    flattened_predictions = torch.argmax(active_logits, dim=1)\n",
    "\n",
    "    # exclude uninteresting labels\n",
    "    active_accuracy = batch_labels.view(-1) != EXTRA_LABEL\n",
    "    flattened_labels = torch.masked_select(flattened_labels, active_accuracy)\n",
    "    flattened_predictions = torch.masked_select(flattened_predictions, active_accuracy)\n",
    "    \n",
    "    return loss, flattened_labels, flattened_predictions    \n",
    "\n",
    "def compute_model_prediction(model, batch):    \n",
    "    # move batch to GPU\n",
    "    bacth_ids            = batch['ids'].to(device, dtype = torch.long)\n",
    "    batch_attention_mask = batch['attention_mask'].to(device, dtype = torch.long)\n",
    "\n",
    "    # probabilities\n",
    "    output = model(input_ids=bacth_ids, attention_mask=batch_attention_mask)\n",
    "    logits = output.logits\n",
    "    \n",
    "    #predictions\n",
    "    predictions = torch.argmax(logits, dim=2)\n",
    "    \n",
    "    return predictions.cpu().numpy()\n",
    "    \n",
    "def train(model, dataset, validation_dataset, train_parameters, epochs, eval_every_n_epochs):\n",
    "    loader_params = get_loader_params(train_parameters['BATCH_SIZE'])\n",
    "    loader = DataLoader(dataset, **loader_params)\n",
    "    optimizer = train_parameters['OPTIMIZER'](params=model.parameters(), lr=train_parameters['LEARNING_RATE'], weight_decay=train_parameters['WEIGHT_DECAY'])\n",
    "    \n",
    "    model.train()\n",
    "    sc = ScoreTracker()\n",
    "    \n",
    "    train_losses = []\n",
    "    train_accuracies = []\n",
    "    val_losses = []\n",
    "    val_accuracies = []\n",
    "    \n",
    "    for epoch in range(epochs):\n",
    "        sc.reset()\n",
    "        \n",
    "        for i, batch in tqdm(enumerate(loader)):\n",
    "            # zero gradients\n",
    "            optimizer.zero_grad()\n",
    "            \n",
    "            # model pre\n",
    "            loss, flattened_labels, flattened_predictions = compute_model_output(model, batch)\n",
    "            sc.update(loss.item(), flattened_labels.cpu().numpy(), flattened_predictions.cpu().numpy())\n",
    "            \n",
    "            # gradient clipping\n",
    "            torch.nn.utils.clip_grad_norm_(\n",
    "                parameters=model.parameters(), max_norm=train_parameters['MAX_GRAD_NORM']\n",
    "            )\n",
    "\n",
    "            # backward propagation\n",
    "            loss.backward()\n",
    "            optimizer.step()\n",
    "                    \n",
    "        if (epoch + 1) % eval_every_n_epochs == 0:\n",
    "            print(f\"Train. {sc.get_str()}\")\n",
    "            val_loss, val_acc = evaluate(model, validation_dataset, train_parameters)\n",
    "            model.train()\n",
    "        \n",
    "        train_losses.append(sc.get()[0])\n",
    "        train_accuracies.append(sc.get()[1])\n",
    "        val_losses.append(val_loss)\n",
    "        val_accuracies.append(val_acc)\n",
    "    \n",
    "    return train_losses, val_losses, train_accuracies, val_accuracies\n",
    "            \n",
    "def evaluate(model, dataset, evaluate_parameters):\n",
    "    loader_params = get_loader_params(evaluate_parameters['BATCH_SIZE'])\n",
    "    loader = DataLoader(dataset, **loader_params)\n",
    "    \n",
    "    model.eval()\n",
    "    sc = ScoreTracker()\n",
    "    \n",
    "    with torch.no_grad():\n",
    "        for i, batch in tqdm(enumerate(loader)):\n",
    "            loss, flattened_labels, flattened_predictions = compute_model_output(model, batch)\n",
    "            sc.update(loss.item(), flattened_labels.cpu().numpy(), flattened_predictions.cpu().numpy())\n",
    "        \n",
    "    print(f\"Evaluate. {sc.get_str()}\")\n",
    "    \n",
    "    return sc.get()[0], sc.get()[1]\n",
    "    \n",
    "def predict(model, dataset, parameters):\n",
    "    batch_size = parameters['BATCH_SIZE']\n",
    "    loader_params = get_loader_params(batch_size)\n",
    "    loader_params['shuffle'] = False\n",
    "    loader = DataLoader(dataset, **loader_params)\n",
    "    \n",
    "    model.eval()\n",
    "    \n",
    "    predictions = []\n",
    "    labels = []\n",
    "    \n",
    "    with torch.no_grad():\n",
    "        for i, batch in tqdm(enumerate(loader)):\n",
    "            batch_predictions = compute_model_prediction(model, batch)\n",
    "            predictions.extend(batch_predictions)\n",
    "            labels.extend(batch['labels'].cpu().numpy())\n",
    "    \n",
    "    return bert_decode(predictions, map(itemgetter(\"reconstruction\"), dataset)), labels\n",
    "\n",
    "def plot_loss(train_losses, val_losses):\n",
    "    plt.figure()\n",
    "    plt.plot(train_losses, label='train_loss', color='red')\n",
    "    plt.plot(val_losses, label='val_loss', color='blue')\n",
    "    plt.legend()\n",
    "    plt.savefig(\"output/fig1.jpg\")\n",
    "    plt.show()\n",
    "\n",
    "def plot_acc(train_accuracies, val_accuracies):\n",
    "    plt.figure()\n",
    "    plt.plot(train_accuracies, label='train_accuracy', color='red')\n",
    "    plt.plot(val_accuracies, label='val_accuracy', color='blue')\n",
    "    plt.legend()\n",
    "    plt.savefig(\"output/fig2.jpg\")\n",
    "    plt.show()"
   ]
  },
  {
   "cell_type": "code",
   "execution_count": 28,
   "metadata": {
    "execution": {
     "iopub.status.busy": "2022-04-11T06:53:02.763259Z",
     "iopub.status.idle": "2022-04-11T06:53:02.763914Z",
     "shell.execute_reply": "2022-04-11T06:53:02.763706Z",
     "shell.execute_reply.started": "2022-04-11T06:53:02.763681Z"
    }
   },
   "outputs": [
    {
     "name": "stderr",
     "output_type": "stream",
     "text": [
      "1231it [03:34,  5.74it/s]\n"
     ]
    },
    {
     "name": "stdout",
     "output_type": "stream",
     "text": [
      "Train. Averages: Loss 1.432 Accuracy: 0.547 Recall: 0.347 F1-Score: 0.347\n"
     ]
    },
    {
     "name": "stderr",
     "output_type": "stream",
     "text": [
      "154it [00:16,  9.35it/s]\n"
     ]
    },
    {
     "name": "stdout",
     "output_type": "stream",
     "text": [
      "Evaluate. Averages: Loss 0.524 Accuracy: 0.835 Recall: 0.614 F1-Score: 0.614\n"
     ]
    },
    {
     "name": "stderr",
     "output_type": "stream",
     "text": [
      "1231it [03:37,  5.66it/s]\n"
     ]
    },
    {
     "name": "stdout",
     "output_type": "stream",
     "text": [
      "Train. Averages: Loss 0.669 Accuracy: 0.773 Recall: 0.635 F1-Score: 0.635\n"
     ]
    },
    {
     "name": "stderr",
     "output_type": "stream",
     "text": [
      "154it [00:16,  9.19it/s]\n"
     ]
    },
    {
     "name": "stdout",
     "output_type": "stream",
     "text": [
      "Evaluate. Averages: Loss 0.367 Accuracy: 0.884 Recall: 0.756 F1-Score: 0.756\n"
     ]
    },
    {
     "name": "stderr",
     "output_type": "stream",
     "text": [
      "1231it [03:40,  5.59it/s]\n"
     ]
    },
    {
     "name": "stdout",
     "output_type": "stream",
     "text": [
      "Train. Averages: Loss 0.561 Accuracy: 0.811 Recall: 0.700 F1-Score: 0.700\n"
     ]
    },
    {
     "name": "stderr",
     "output_type": "stream",
     "text": [
      "154it [00:16,  9.13it/s]\n"
     ]
    },
    {
     "name": "stdout",
     "output_type": "stream",
     "text": [
      "Evaluate. Averages: Loss 0.323 Accuracy: 0.897 Recall: 0.794 F1-Score: 0.794\n"
     ]
    },
    {
     "name": "stderr",
     "output_type": "stream",
     "text": [
      "1231it [03:43,  5.51it/s]\n"
     ]
    },
    {
     "name": "stdout",
     "output_type": "stream",
     "text": [
      "Train. Averages: Loss 0.511 Accuracy: 0.831 Recall: 0.728 F1-Score: 0.728\n"
     ]
    },
    {
     "name": "stderr",
     "output_type": "stream",
     "text": [
      "154it [00:17,  8.95it/s]\n"
     ]
    },
    {
     "name": "stdout",
     "output_type": "stream",
     "text": [
      "Evaluate. Averages: Loss 0.307 Accuracy: 0.907 Recall: 0.821 F1-Score: 0.821\n"
     ]
    },
    {
     "name": "stderr",
     "output_type": "stream",
     "text": [
      "1231it [03:45,  5.46it/s]\n"
     ]
    },
    {
     "name": "stdout",
     "output_type": "stream",
     "text": [
      "Train. Averages: Loss 0.477 Accuracy: 0.839 Recall: 0.748 F1-Score: 0.748\n"
     ]
    },
    {
     "name": "stderr",
     "output_type": "stream",
     "text": [
      "154it [00:16,  9.07it/s]\n"
     ]
    },
    {
     "name": "stdout",
     "output_type": "stream",
     "text": [
      "Evaluate. Averages: Loss 0.293 Accuracy: 0.914 Recall: 0.836 F1-Score: 0.836\n"
     ]
    },
    {
     "name": "stderr",
     "output_type": "stream",
     "text": [
      "1231it [03:41,  5.55it/s]\n"
     ]
    },
    {
     "name": "stdout",
     "output_type": "stream",
     "text": [
      "Train. Averages: Loss 0.453 Accuracy: 0.846 Recall: 0.758 F1-Score: 0.758\n"
     ]
    },
    {
     "name": "stderr",
     "output_type": "stream",
     "text": [
      "154it [00:16,  9.09it/s]\n"
     ]
    },
    {
     "name": "stdout",
     "output_type": "stream",
     "text": [
      "Evaluate. Averages: Loss 0.279 Accuracy: 0.915 Recall: 0.845 F1-Score: 0.845\n"
     ]
    },
    {
     "name": "stderr",
     "output_type": "stream",
     "text": [
      "1231it [03:42,  5.54it/s]\n"
     ]
    },
    {
     "name": "stdout",
     "output_type": "stream",
     "text": [
      "Train. Averages: Loss 0.428 Accuracy: 0.853 Recall: 0.768 F1-Score: 0.768\n"
     ]
    },
    {
     "name": "stderr",
     "output_type": "stream",
     "text": [
      "154it [00:16,  9.07it/s]\n"
     ]
    },
    {
     "name": "stdout",
     "output_type": "stream",
     "text": [
      "Evaluate. Averages: Loss 0.272 Accuracy: 0.922 Recall: 0.856 F1-Score: 0.856\n"
     ]
    },
    {
     "name": "stderr",
     "output_type": "stream",
     "text": [
      "1231it [03:42,  5.54it/s]\n"
     ]
    },
    {
     "name": "stdout",
     "output_type": "stream",
     "text": [
      "Train. Averages: Loss 0.413 Accuracy: 0.861 Recall: 0.775 F1-Score: 0.775\n"
     ]
    },
    {
     "name": "stderr",
     "output_type": "stream",
     "text": [
      "154it [00:16,  9.07it/s]\n"
     ]
    },
    {
     "name": "stdout",
     "output_type": "stream",
     "text": [
      "Evaluate. Averages: Loss 0.258 Accuracy: 0.921 Recall: 0.850 F1-Score: 0.850\n"
     ]
    },
    {
     "name": "stderr",
     "output_type": "stream",
     "text": [
      "1231it [03:42,  5.53it/s]\n"
     ]
    },
    {
     "name": "stdout",
     "output_type": "stream",
     "text": [
      "Train. Averages: Loss 0.394 Accuracy: 0.867 Recall: 0.785 F1-Score: 0.785\n"
     ]
    },
    {
     "name": "stderr",
     "output_type": "stream",
     "text": [
      "154it [00:17,  9.04it/s]\n"
     ]
    },
    {
     "name": "stdout",
     "output_type": "stream",
     "text": [
      "Evaluate. Averages: Loss 0.257 Accuracy: 0.926 Recall: 0.862 F1-Score: 0.862\n"
     ]
    },
    {
     "name": "stderr",
     "output_type": "stream",
     "text": [
      "1231it [03:42,  5.53it/s]\n"
     ]
    },
    {
     "name": "stdout",
     "output_type": "stream",
     "text": [
      "Train. Averages: Loss 0.382 Accuracy: 0.870 Recall: 0.788 F1-Score: 0.788\n"
     ]
    },
    {
     "name": "stderr",
     "output_type": "stream",
     "text": [
      "154it [00:17,  9.04it/s]\n"
     ]
    },
    {
     "name": "stdout",
     "output_type": "stream",
     "text": [
      "Evaluate. Averages: Loss 0.249 Accuracy: 0.926 Recall: 0.867 F1-Score: 0.867\n"
     ]
    },
    {
     "name": "stderr",
     "output_type": "stream",
     "text": [
      "1231it [03:42,  5.53it/s]\n"
     ]
    },
    {
     "name": "stdout",
     "output_type": "stream",
     "text": [
      "Train. Averages: Loss 0.378 Accuracy: 0.872 Recall: 0.793 F1-Score: 0.793\n"
     ]
    },
    {
     "name": "stderr",
     "output_type": "stream",
     "text": [
      "154it [00:17,  9.05it/s]\n"
     ]
    },
    {
     "name": "stdout",
     "output_type": "stream",
     "text": [
      "Evaluate. Averages: Loss 0.255 Accuracy: 0.927 Recall: 0.871 F1-Score: 0.871\n"
     ]
    },
    {
     "name": "stderr",
     "output_type": "stream",
     "text": [
      "1231it [03:42,  5.53it/s]\n"
     ]
    },
    {
     "name": "stdout",
     "output_type": "stream",
     "text": [
      "Train. Averages: Loss 0.356 Accuracy: 0.877 Recall: 0.798 F1-Score: 0.798\n"
     ]
    },
    {
     "name": "stderr",
     "output_type": "stream",
     "text": [
      "154it [00:17,  8.97it/s]\n"
     ]
    },
    {
     "name": "stdout",
     "output_type": "stream",
     "text": [
      "Evaluate. Averages: Loss 0.247 Accuracy: 0.929 Recall: 0.874 F1-Score: 0.874\n"
     ]
    },
    {
     "name": "stderr",
     "output_type": "stream",
     "text": [
      "1231it [03:45,  5.46it/s]\n"
     ]
    },
    {
     "name": "stdout",
     "output_type": "stream",
     "text": [
      "Train. Averages: Loss 0.349 Accuracy: 0.880 Recall: 0.802 F1-Score: 0.802\n"
     ]
    },
    {
     "name": "stderr",
     "output_type": "stream",
     "text": [
      "154it [00:17,  9.05it/s]\n"
     ]
    },
    {
     "name": "stdout",
     "output_type": "stream",
     "text": [
      "Evaluate. Averages: Loss 0.247 Accuracy: 0.928 Recall: 0.869 F1-Score: 0.869\n"
     ]
    },
    {
     "name": "stderr",
     "output_type": "stream",
     "text": [
      "1231it [03:42,  5.53it/s]\n"
     ]
    },
    {
     "name": "stdout",
     "output_type": "stream",
     "text": [
      "Train. Averages: Loss 0.337 Accuracy: 0.883 Recall: 0.807 F1-Score: 0.807\n"
     ]
    },
    {
     "name": "stderr",
     "output_type": "stream",
     "text": [
      "154it [00:17,  9.04it/s]\n"
     ]
    },
    {
     "name": "stdout",
     "output_type": "stream",
     "text": [
      "Evaluate. Averages: Loss 0.240 Accuracy: 0.930 Recall: 0.878 F1-Score: 0.878\n"
     ]
    },
    {
     "name": "stderr",
     "output_type": "stream",
     "text": [
      "1231it [03:44,  5.49it/s]\n"
     ]
    },
    {
     "name": "stdout",
     "output_type": "stream",
     "text": [
      "Train. Averages: Loss 0.333 Accuracy: 0.884 Recall: 0.807 F1-Score: 0.807\n"
     ]
    },
    {
     "name": "stderr",
     "output_type": "stream",
     "text": [
      "154it [00:17,  8.88it/s]\n"
     ]
    },
    {
     "name": "stdout",
     "output_type": "stream",
     "text": [
      "Evaluate. Averages: Loss 0.233 Accuracy: 0.931 Recall: 0.883 F1-Score: 0.883\n"
     ]
    },
    {
     "name": "stderr",
     "output_type": "stream",
     "text": [
      "1231it [03:44,  5.48it/s]\n"
     ]
    },
    {
     "name": "stdout",
     "output_type": "stream",
     "text": [
      "Train. Averages: Loss 0.326 Accuracy: 0.887 Recall: 0.812 F1-Score: 0.812\n"
     ]
    },
    {
     "name": "stderr",
     "output_type": "stream",
     "text": [
      "154it [00:17,  9.05it/s]\n"
     ]
    },
    {
     "name": "stdout",
     "output_type": "stream",
     "text": [
      "Evaluate. Averages: Loss 0.244 Accuracy: 0.933 Recall: 0.884 F1-Score: 0.884\n"
     ]
    },
    {
     "name": "stderr",
     "output_type": "stream",
     "text": [
      "1231it [03:42,  5.52it/s]\n"
     ]
    },
    {
     "name": "stdout",
     "output_type": "stream",
     "text": [
      "Train. Averages: Loss 0.318 Accuracy: 0.889 Recall: 0.813 F1-Score: 0.813\n"
     ]
    },
    {
     "name": "stderr",
     "output_type": "stream",
     "text": [
      "154it [00:16,  9.06it/s]\n"
     ]
    },
    {
     "name": "stdout",
     "output_type": "stream",
     "text": [
      "Evaluate. Averages: Loss 0.234 Accuracy: 0.937 Recall: 0.887 F1-Score: 0.887\n"
     ]
    },
    {
     "name": "stderr",
     "output_type": "stream",
     "text": [
      "1231it [03:42,  5.52it/s]\n"
     ]
    },
    {
     "name": "stdout",
     "output_type": "stream",
     "text": [
      "Train. Averages: Loss 0.321 Accuracy: 0.887 Recall: 0.817 F1-Score: 0.817\n"
     ]
    },
    {
     "name": "stderr",
     "output_type": "stream",
     "text": [
      "154it [00:17,  9.05it/s]\n"
     ]
    },
    {
     "name": "stdout",
     "output_type": "stream",
     "text": [
      "Evaluate. Averages: Loss 0.241 Accuracy: 0.931 Recall: 0.888 F1-Score: 0.888\n"
     ]
    },
    {
     "name": "stderr",
     "output_type": "stream",
     "text": [
      "1231it [03:42,  5.52it/s]\n"
     ]
    },
    {
     "name": "stdout",
     "output_type": "stream",
     "text": [
      "Train. Averages: Loss 0.310 Accuracy: 0.889 Recall: 0.817 F1-Score: 0.817\n"
     ]
    },
    {
     "name": "stderr",
     "output_type": "stream",
     "text": [
      "154it [00:16,  9.07it/s]\n"
     ]
    },
    {
     "name": "stdout",
     "output_type": "stream",
     "text": [
      "Evaluate. Averages: Loss 0.240 Accuracy: 0.938 Recall: 0.889 F1-Score: 0.889\n"
     ]
    },
    {
     "name": "stderr",
     "output_type": "stream",
     "text": [
      "1231it [03:42,  5.52it/s]\n"
     ]
    },
    {
     "name": "stdout",
     "output_type": "stream",
     "text": [
      "Train. Averages: Loss 0.300 Accuracy: 0.893 Recall: 0.821 F1-Score: 0.821\n"
     ]
    },
    {
     "name": "stderr",
     "output_type": "stream",
     "text": [
      "154it [00:16,  9.07it/s]"
     ]
    },
    {
     "name": "stdout",
     "output_type": "stream",
     "text": [
      "Evaluate. Averages: Loss 0.236 Accuracy: 0.931 Recall: 0.889 F1-Score: 0.889\n"
     ]
    },
    {
     "name": "stderr",
     "output_type": "stream",
     "text": [
      "\n"
     ]
    }
   ],
   "source": [
    "from operator import itemgetter\n",
    "\n",
    "parameters = {\n",
    "    \"BATCH_SIZE\": 8,\n",
    "    \"LEARNING_RATE\": 1e-05,\n",
    "    \"WEIGHT_DECAY\": 1e-06,\n",
    "    \"MAX_GRAD_NORM\": 1.0,\n",
    "    \"OPTIMIZER\": torch.optim.AdamW,\n",
    "}\n",
    "\n",
    "train_losses, val_losses, train_accuracies, val_accuracies = train(model, dataset_train, dataset_validation, parameters, 20, 1)"
   ]
  },
  {
   "cell_type": "code",
   "execution_count": 29,
   "metadata": {},
   "outputs": [
    {
     "data": {
      "image/png": "[encoded data removed]",
      "text/plain": [
       "<Figure size 432x288 with 1 Axes>"
      ]
     },
     "metadata": {
      "needs_background": "light"
     },
     "output_type": "display_data"
    },
    {
     "data": {
      "image/png": "[encoded data removed]",
      "text/plain": [
       "<Figure size 432x288 with 1 Axes>"
      ]
     },
     "metadata": {
      "needs_background": "light"
     },
     "output_type": "display_data"
    }
   ],
   "source": [
    "plot_loss(train_losses, val_losses)\n",
    "plot_acc(train_accuracies, val_accuracies)"
   ]
  },
  {
   "cell_type": "code",
   "execution_count": 30,
   "metadata": {
    "execution": {
     "iopub.status.busy": "2022-04-11T06:53:02.765246Z",
     "iopub.status.idle": "2022-04-11T06:53:02.765562Z",
     "shell.execute_reply": "2022-04-11T06:53:02.765415Z",
     "shell.execute_reply.started": "2022-04-11T06:53:02.765393Z"
    }
   },
   "outputs": [
    {
     "name": "stderr",
     "output_type": "stream",
     "text": [
      "154it [00:16,  9.06it/s]\n"
     ]
    },
    {
     "name": "stdout",
     "output_type": "stream",
     "text": [
      "Evaluate. Averages: Loss 0.236 Accuracy: 0.937 Recall: 0.890 F1-Score: 0.890\n"
     ]
    },
    {
     "name": "stderr",
     "output_type": "stream",
     "text": [
      "154it [00:16,  9.08it/s]"
     ]
    },
    {
     "name": "stdout",
     "output_type": "stream",
     "text": [
      "Evaluate. Averages: Loss 0.257 Accuracy: 0.930 Recall: 0.888 F1-Score: 0.888\n"
     ]
    },
    {
     "name": "stderr",
     "output_type": "stream",
     "text": [
      "\n"
     ]
    },
    {
     "data": {
      "text/plain": [
       "(0.2570530753945569, 0.9300241350120962)"
      ]
     },
     "execution_count": 30,
     "metadata": {},
     "output_type": "execute_result"
    }
   ],
   "source": [
    "evaluate(model, dataset_validation, parameters)\n",
    "evaluate(model, dataset_test, parameters)"
   ]
  },
  {
   "cell_type": "code",
   "execution_count": 31,
   "metadata": {
    "execution": {
     "iopub.status.busy": "2022-04-11T06:53:02.766418Z",
     "iopub.status.idle": "2022-04-11T06:53:02.766751Z",
     "shell.execute_reply": "2022-04-11T06:53:02.766579Z",
     "shell.execute_reply.started": "2022-04-11T06:53:02.766556Z"
    }
   },
   "outputs": [
    {
     "name": "stderr",
     "output_type": "stream",
     "text": [
      "303it [00:32,  9.27it/s]\n"
     ]
    }
   ],
   "source": [
    "y_pred = predict(model, dataset_evaluation, parameters)"
   ]
  },
  {
   "cell_type": "code",
   "execution_count": 36,
   "metadata": {},
   "outputs": [],
   "source": [
    "def plot_confustion_matrix(labels, predictions):\n",
    "    fig, ax = plt.subplots(figsize=(8, 5))\n",
    "    cmp = ConfusionMatrixDisplay(\n",
    "        confusion_matrix(labels, predictions),\n",
    "        display_labels=label_index.keys(),\n",
    "    )\n",
    "\n",
    "    cmp.plot(ax=ax)\n",
    "    plt.show();"
   ]
  },
  {
   "cell_type": "code",
   "execution_count": 40,
   "metadata": {},
   "outputs": [
    {
     "name": "stderr",
     "output_type": "stream",
     "text": [
      "1231it [02:06,  9.70it/s]\n"
     ]
    }
   ],
   "source": [
    "from sklearn.metrics import ConfusionMatrixDisplay, confusion_matrix\n",
    "y_pred, labels = predict(model, dataset_train, parameters)"
   ]
  },
  {
   "cell_type": "code",
   "execution_count": 41,
   "metadata": {
    "execution": {
     "iopub.status.busy": "2022-04-11T06:53:02.76848Z",
     "iopub.status.idle": "2022-04-11T06:53:02.768838Z",
     "shell.execute_reply": "2022-04-11T06:53:02.768655Z",
     "shell.execute_reply.started": "2022-04-11T06:53:02.768632Z"
    }
   },
   "outputs": [
    {
     "name": "stdout",
     "output_type": "stream",
     "text": [
      "116493\n"
     ]
    }
   ],
   "source": [
    "flat_predictions = []\n",
    "for i in range(len(df_evaluation)):\n",
    "    # on some entries something went wrong :P TODO: fix it\n",
    "    if len(y_pred[i]) < len(df_evaluation[\"tokens\"][i]):\n",
    "        y_pred[i] = fixed_sz(y_pred[i], len(df_evaluation[\"tokens\"][i]), 0)\n",
    "        \n",
    "    flat_predictions.extend(y_pred[i])\n",
    "    \n",
    "print(len(flat_predictions))"
   ]
  },
  {
   "cell_type": "code",
   "execution_count": 33,
   "metadata": {
    "execution": {
     "iopub.status.busy": "2022-04-11T06:53:02.770093Z",
     "iopub.status.idle": "2022-04-11T06:53:02.770449Z",
     "shell.execute_reply": "2022-04-11T06:53:02.770298Z",
     "shell.execute_reply.started": "2022-04-11T06:53:02.770276Z"
    }
   },
   "outputs": [
    {
     "data": {
      "text/plain": [
       "653270"
      ]
     },
     "execution_count": 33,
     "metadata": {},
     "output_type": "execute_result"
    }
   ],
   "source": [
    "df_solution = pd.DataFrame({\"ner_label\": flat_predictions})\n",
    "open(\"output/solution.csv\", \"w\").write('Id' + df_solution.to_csv(index=True))"
   ]
  },
  {
   "cell_type": "code",
   "execution_count": 34,
   "metadata": {},
   "outputs": [
    {
     "data": {
      "text/plain": [
       "7557"
      ]
     },
     "execution_count": 34,
     "metadata": {},
     "output_type": "execute_result"
    }
   ],
   "source": [
    "import gc\n",
    "gc.collect()"
   ]
  }
 ],
 "metadata": {
  "kernelspec": {
   "display_name": "Python 3 (ipykernel)",
   "language": "python",
   "name": "python3"
  },
  "language_info": {
   "codemirror_mode": {
    "name": "ipython",
    "version": 3
   },
   "file_extension": ".py",
   "mimetype": "text/x-python",
   "name": "python",
   "nbconvert_exporter": "python",
   "pygments_lexer": "ipython3",
   "version": "3.9.7"
  }
 },
 "nbformat": 4,
 "nbformat_minor": 4
}
